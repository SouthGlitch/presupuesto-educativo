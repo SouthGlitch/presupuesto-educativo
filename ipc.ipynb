{
 "cells": [
  {
   "cell_type": "code",
   "execution_count": 359,
   "metadata": {},
   "outputs": [],
   "source": [
    "import pandas as pd"
   ]
  },
  {
   "cell_type": "markdown",
   "metadata": {},
   "source": [
    "## Resúmen de datos"
   ]
  },
  {
   "cell_type": "markdown",
   "metadata": {},
   "source": [
    "Datos obtenidos en [datos.gob.ar](https://datos.gob.ar)"
   ]
  },
  {
   "cell_type": "markdown",
   "metadata": {},
   "source": [
    "### Índice de precios al consumidor IPC resto. Mensual (99.3_IR_2008_0_9)\n",
    "* Temas: Precios\n",
    "\n",
    "* Frecuencia de actualización: Mensual\n",
    "\n",
    "* Unidades: Índice abr-2008=100\n",
    "\n",
    "* Dataset: Índice de Precios al Consumidor GBA (IPC-GBA). Base abril 2008. SERIE DISCONTINUADA\n",
    "\n",
    "* Distribución: Índice de Precios al Consumidor GBA, por grupos. Datos mensuales. Base abril 2008.\n",
    "\n",
    "* Responsable de publicación: Subsecretaría de Programación Macroeconómica\n",
    "\n",
    "* Fecha de publicación: 2017-09-28\n",
    "\n",
    "* Fuente primaria: Instituto Nacional de Estadística y Censos (INDEC)\n",
    "\n",
    "* Cobertura temporal: 2006-12 a 2013-12 (85 valores)"
   ]
  },
  {
   "cell_type": "code",
   "execution_count": 360,
   "metadata": {},
   "outputs": [
    {
     "name": "stdout",
     "output_type": "stream",
     "text": [
      "<class 'pandas.core.frame.DataFrame'>\n",
      "RangeIndex: 85 entries, 0 to 84\n",
      "Data columns (total 7 columns):\n",
      " #   Column                                    Non-Null Count  Dtype  \n",
      "---  ------                                    --------------  -----  \n",
      " 0   indice_tiempo                             85 non-null     object \n",
      " 1   ipc_nivel_general                         85 non-null     float64\n",
      " 2   ipc_estacionales                          85 non-null     float64\n",
      " 3   ipc_regulados                             85 non-null     float64\n",
      " 4   ipc_resto                                 85 non-null     float64\n",
      " 5   precios_relativos_estacionales_ipc_resto  85 non-null     float64\n",
      " 6   precios_relativos_regulados_ipc_resto     85 non-null     float64\n",
      "dtypes: float64(6), object(1)\n",
      "memory usage: 4.8+ KB\n"
     ]
    }
   ],
   "source": [
    "ipc_base_08 = pd.read_csv(\n",
    "    \"./data/IPC/indice-precios-al-consumidor-apertura-por-grupos-base-2008-mensual.csv\")\n",
    "ipc_base_08.info()"
   ]
  },
  {
   "cell_type": "code",
   "execution_count": 361,
   "metadata": {},
   "outputs": [
    {
     "data": {
      "text/plain": [
       "<AxesSubplot:xlabel='indice_tiempo'>"
      ]
     },
     "execution_count": 361,
     "metadata": {},
     "output_type": "execute_result"
    },
    {
     "data": {
      "image/png": "[encoded data removed]",
      "text/plain": [
       "<Figure size 1008x576 with 1 Axes>"
      ]
     },
     "metadata": {
      "needs_background": "light"
     },
     "output_type": "display_data"
    }
   ],
   "source": [
    "ipc_base_08_ng.plot(figsize=(14,8))"
   ]
  },
  {
   "cell_type": "code",
   "execution_count": 362,
   "metadata": {},
   "outputs": [],
   "source": [
    "ipc_base_08_ng = ipc_base_08[[\"indice_tiempo\", \"ipc_nivel_general\"]].set_index(\n",
    "    \"indice_tiempo\").rename(columns={\"ipc_nivel_general\": \"nivel_general\"})\n"
   ]
  },
  {
   "cell_type": "markdown",
   "metadata": {},
   "source": [
    "### Nivel general índice mensual urbano (124.3_NGI_OCTU_0_20)\n",
    "* Temas: Precios\n",
    "\n",
    "* Frecuencia de actualización: Mensual\n",
    "\n",
    "* Unidades: Índice oct-2013/sep-2014=100\n",
    "\n",
    "* Dataset: Índice de Precios al Consumidor Nacional Urbano (IPC-NU). Base 10/2013 - 9/2014. SERIE DISCONTINUADA\n",
    "\n",
    "* Distribución: Índice de Precios al Consumidor Nacional Urbano, principales aperturas. Datos mensuales (Base Octubre13 Septiembre14)\n",
    "\n",
    "* Responsable de publicación: Subsecretaría de Programación Macroeconómica\n",
    "\n",
    "* Fecha de publicación: 2017-09-28\n",
    "\n",
    "* Fuente primaria: Instituto Nacional de Estadística y Censos (INDEC)\n",
    "\n",
    "* Cobertura temporal: 2013-12 a 2015-10 (23 valores)"
   ]
  },
  {
   "cell_type": "code",
   "execution_count": 363,
   "metadata": {},
   "outputs": [
    {
     "name": "stdout",
     "output_type": "stream",
     "text": [
      "<class 'pandas.core.frame.DataFrame'>\n",
      "RangeIndex: 23 entries, 0 to 22\n",
      "Data columns (total 40 columns):\n",
      " #   Column                                        Non-Null Count  Dtype  \n",
      "---  ------                                        --------------  -----  \n",
      " 0   indice_tiempo                                 23 non-null     object \n",
      " 1   nivel_general_indice                          23 non-null     float64\n",
      " 2   alimentos_bebidas                             23 non-null     float64\n",
      " 3   alimentos_consumir_hogar                      23 non-null     float64\n",
      " 4   productos_panificacion_cereales_pastas        23 non-null     float64\n",
      " 5   carnes                                        23 non-null     float64\n",
      " 6   carne_vacuna                                  23 non-null     float64\n",
      " 7   otras_carnes_rojas_frescas                    23 non-null     float64\n",
      " 8   carne_ave                                     23 non-null     float64\n",
      " 9   pescados_mariscos_frescos_congelados          23 non-null     float64\n",
      " 10  fiambres_embutidos_conservas                  23 non-null     float64\n",
      " 11  aceites_grasas                                23 non-null     float64\n",
      " 12  productos_lacteos_huevos                      23 non-null     float64\n",
      " 13  frutas                                        23 non-null     float64\n",
      " 14  verduras                                      23 non-null     float64\n",
      " 15  azucar_miel_dulces_cacao                      23 non-null     float64\n",
      " 16  bebidas_infusiones_para_consumir_hogar        23 non-null     float64\n",
      " 17  bebidas_no_alcoholicas                        23 non-null     float64\n",
      " 18  bebidas_alcoholicas                           23 non-null     float64\n",
      " 19  indumentaria                                  23 non-null     float64\n",
      " 20  ropa                                          23 non-null     float64\n",
      " 21  ropa_interior                                 23 non-null     float64\n",
      " 22  ropa_exterior                                 23 non-null     float64\n",
      " 23  calzado                                       23 non-null     float64\n",
      " 24  vivienda_servicios_basicos                    23 non-null     float64\n",
      " 25  alquiler_vivienda                             23 non-null     float64\n",
      " 26  servicios_basicos_combustibles_para_vivienda  23 non-null     float64\n",
      " 27  equipamiento_mantenimiento_hogar              23 non-null     float64\n",
      " 28  atencion_medica_gastos_para_salud             23 non-null     float64\n",
      " 29  transporte_comunicaciones                     23 non-null     float64\n",
      " 30  transporte                                    23 non-null     float64\n",
      " 31  comunicaciones                                23 non-null     float64\n",
      " 32  esparcimiento                                 23 non-null     float64\n",
      " 33  turismo                                       23 non-null     float64\n",
      " 34  diarios_revistas_libros                       23 non-null     float64\n",
      " 35  otros_servicios_esparcimiento                 23 non-null     float64\n",
      " 36  educacion                                     23 non-null     float64\n",
      " 37  servicios_educativos                          23 non-null     float64\n",
      " 38  textos_utiles_escolares                       23 non-null     float64\n",
      " 39  otros_bienes_servicios_varios                 23 non-null     float64\n",
      "dtypes: float64(39), object(1)\n",
      "memory usage: 7.3+ KB\n"
     ]
    }
   ],
   "source": [
    "ipc_base_oct13_sept14 = pd.read_csv(\n",
    "    \"./data/IPC/indice-precios-al-consumidor-nacional-urbano-principales-aperturas-base-oct-13-sep-14-mensual.csv\"\n",
    ")\n",
    "ipc_base_oct13_sept14.info()\n"
   ]
  },
  {
   "cell_type": "code",
   "execution_count": 364,
   "metadata": {},
   "outputs": [],
   "source": [
    "ipc_base_oct13_sept14_ng = ipc_base_oct13_sept14[[\"indice_tiempo\",\"nivel_general_indice\"]].set_index(\"indice_tiempo\").rename(columns={\"nivel_general_indice\":\"nivel_general\"})"
   ]
  },
  {
   "cell_type": "markdown",
   "metadata": {},
   "source": [
    "### Nivel de precios de nivel general (193.1_NIVEL_GENERAL_JULI_0_13)\n",
    "* Temas: Precios\n",
    "\n",
    "* Frecuencia de actualización: Mensual\n",
    "\n",
    "* Unidades: Índice base 100\n",
    "\n",
    "* Dataset: Índice de Precios al Consumidor de la Ciudad de Buenos Aires. Nivel general y principales aperturas\n",
    "\n",
    "* Distribución: Índice de Precios al Consumidor de la Ciudad de Buenos Aires. Nivel general y principales aperturas. Base julio 2011 - junio 2012 = 100\n",
    "\n",
    "* Responsable de publicación: Subsecretaría de Programación Macroeconómica\n",
    "\n",
    "* Fecha de publicación: 2017-10-05\n",
    "\n",
    "* Fuente primaria: Dirección General de Estadística y Censos - Ministerio de Hacienda GCBA\n",
    "\n",
    "* Cobertura temporal: 2012-07 a 2021-12 (114 valores)"
   ]
  },
  {
   "cell_type": "code",
   "execution_count": 365,
   "metadata": {},
   "outputs": [
    {
     "name": "stdout",
     "output_type": "stream",
     "text": [
      "<class 'pandas.core.frame.DataFrame'>\n",
      "RangeIndex: 113 entries, 0 to 112\n",
      "Data columns (total 17 columns):\n",
      " #   Column                                         Non-Null Count  Dtype  \n",
      "---  ------                                         --------------  -----  \n",
      " 0   indice_tiempo                                  113 non-null    object \n",
      " 1   nivel_general                                  113 non-null    float64\n",
      " 2   alimentos_bebidas_no_alcoholicas               113 non-null    float64\n",
      " 3   bebidas_alcoholicas_tabaco                     113 non-null    float64\n",
      " 4   prendas_vestir_calzado                         113 non-null    float64\n",
      " 5   vivienda_agua_electricidad_otros_combustibles  113 non-null    float64\n",
      " 6   equipamiento_mantenimiento_hogar               113 non-null    float64\n",
      " 7   salud                                          113 non-null    float64\n",
      " 8   transporte                                     113 non-null    float64\n",
      " 9   comunicaciones                                 113 non-null    float64\n",
      " 10  recreacion_cultura                             113 non-null    float64\n",
      " 11  educacion                                      113 non-null    float64\n",
      " 12  restaurantes_hoteles                           113 non-null    float64\n",
      " 13  bienes_servicios_varios                        113 non-null    float64\n",
      " 14  estacionales                                   113 non-null    float64\n",
      " 15  regulados                                      113 non-null    float64\n",
      " 16  resto                                          113 non-null    float64\n",
      "dtypes: float64(16), object(1)\n",
      "memory usage: 15.1+ KB\n"
     ]
    }
   ],
   "source": [
    "ipc_caba_base_jul12 = pd.read_csv(\"./data/IPC/indice-precios-consumidor-caba-jul-2012-100.csv\")\n",
    "ipc_caba_base_jul12.info()"
   ]
  },
  {
   "cell_type": "code",
   "execution_count": 366,
   "metadata": {},
   "outputs": [],
   "source": [
    "\n",
    "ipc_caba_base_jul12_ng = ipc_caba_base_jul12[[\"indice_tiempo\", \"nivel_general\"]].set_index(\"indice_tiempo\")"
   ]
  },
  {
   "cell_type": "markdown",
   "metadata": {},
   "source": [
    "### IPC. Nivel General Nacional. Base dic 2016. Mensual. (148.3_INIVELNAL_DICI_M_26)\n",
    "Temas: Precios\n",
    "\n",
    "Frecuencia de actualización: Mensual\n",
    "\n",
    "Unidades: Índice\n",
    "\n",
    "Dataset: Índice de Precios al Consumidor Nacional (IPC). Base diciembre 2016.\n",
    "\n",
    "Distribución: Índice de Precios al Consumidor, por categorías y regiones. Base diciembre de 2016. Valores mensuales\n",
    "\n",
    "Responsable de publicación: Subsecretaría de Programación Macroeconómica\n",
    "\n",
    "Fecha de publicación: 2017-09-28\n",
    "\n",
    "Fuente primaria: Instituto Nacional de Estadística y Censos (INDEC)\n",
    "\n",
    "Cobertura temporal: 2016-12 a 2021-12 (61 valores)"
   ]
  },
  {
   "cell_type": "code",
   "execution_count": 367,
   "metadata": {},
   "outputs": [
    {
     "name": "stdout",
     "output_type": "stream",
     "text": [
      "<class 'pandas.core.frame.DataFrame'>\n",
      "RangeIndex: 61 entries, 0 to 60\n",
      "Data columns (total 29 columns):\n",
      " #   Column                       Non-Null Count  Dtype  \n",
      "---  ------                       --------------  -----  \n",
      " 0   indice_tiempo                61 non-null     object \n",
      " 1   ipc_nivel_general_nacional   61 non-null     float64\n",
      " 2   ipc_estacionales_nacional    61 non-null     float64\n",
      " 3   ipc_nucleo_nacional          61 non-null     float64\n",
      " 4   ipc_regulados_nacional       61 non-null     float64\n",
      " 5   ipc_nivel_general_gba        61 non-null     float64\n",
      " 6   ipc_estacionales_gba         61 non-null     float64\n",
      " 7   ipc_nucleo_gba               61 non-null     float64\n",
      " 8   ipc_regulados_gba            61 non-null     float64\n",
      " 9   ipc_nivel_general_pampeana   61 non-null     float64\n",
      " 10  ipc_estacionales_pampeana    61 non-null     float64\n",
      " 11  ipc_nucleo_pampeana          61 non-null     float64\n",
      " 12  ipc_regulados_pampeana       61 non-null     float64\n",
      " 13  ipc_nivel_general_nea        61 non-null     float64\n",
      " 14  ipc_estacionales_nea         61 non-null     float64\n",
      " 15  ipc_nucleo_nea               61 non-null     float64\n",
      " 16  ipc_regulados_nea            61 non-null     float64\n",
      " 17  ipc_nivel_general_noa        61 non-null     float64\n",
      " 18  ipc_estacionales_noa         61 non-null     float64\n",
      " 19  ipc_nucleo_noa               61 non-null     float64\n",
      " 20  ipc_regulados_noa            61 non-null     float64\n",
      " 21  ipc_nivel_general_cuyo       61 non-null     float64\n",
      " 22  ipc_estacionales_cuyo        61 non-null     float64\n",
      " 23  ipc_nucleo_cuyo              61 non-null     float64\n",
      " 24  ipc_regulados_cuyo           61 non-null     float64\n",
      " 25  ipc_nivel_general_patagonia  61 non-null     float64\n",
      " 26  ipc_estacionales_patagonia   61 non-null     float64\n",
      " 27  ipc_nucleo_patagonia         61 non-null     float64\n",
      " 28  ipc_regulados_patagonia      61 non-null     float64\n",
      "dtypes: float64(28), object(1)\n",
      "memory usage: 13.9+ KB\n"
     ]
    }
   ],
   "source": [
    "ipc_base_dic16 = pd.read_csv(\n",
    "    \"./data/IPC/indice-precios-al-consumidor-apertura-por-categorias-base-diciembre-2016-mensual.csv\")\n",
    "ipc_base_dic16.info()"
   ]
  },
  {
   "cell_type": "code",
   "execution_count": 368,
   "metadata": {},
   "outputs": [
    {
     "data": {
      "text/html": [
       "<div>\n",
       "<style scoped>\n",
       "    .dataframe tbody tr th:only-of-type {\n",
       "        vertical-align: middle;\n",
       "    }\n",
       "\n",
       "    .dataframe tbody tr th {\n",
       "        vertical-align: top;\n",
       "    }\n",
       "\n",
       "    .dataframe thead th {\n",
       "        text-align: right;\n",
       "    }\n",
       "</style>\n",
       "<table border=\"1\" class=\"dataframe\">\n",
       "  <thead>\n",
       "    <tr style=\"text-align: right;\">\n",
       "      <th></th>\n",
       "      <th>nivel_general</th>\n",
       "    </tr>\n",
       "    <tr>\n",
       "      <th>indice_tiempo</th>\n",
       "      <th></th>\n",
       "    </tr>\n",
       "  </thead>\n",
       "  <tbody>\n",
       "    <tr>\n",
       "      <th>2016-12-01</th>\n",
       "      <td>100.0000</td>\n",
       "    </tr>\n",
       "    <tr>\n",
       "      <th>2017-01-01</th>\n",
       "      <td>101.5859</td>\n",
       "    </tr>\n",
       "    <tr>\n",
       "      <th>2017-02-01</th>\n",
       "      <td>103.6859</td>\n",
       "    </tr>\n",
       "    <tr>\n",
       "      <th>2017-03-01</th>\n",
       "      <td>106.1476</td>\n",
       "    </tr>\n",
       "    <tr>\n",
       "      <th>2017-04-01</th>\n",
       "      <td>108.9667</td>\n",
       "    </tr>\n",
       "    <tr>\n",
       "      <th>...</th>\n",
       "      <td>...</td>\n",
       "    </tr>\n",
       "    <tr>\n",
       "      <th>2021-08-01</th>\n",
       "      <td>510.3942</td>\n",
       "    </tr>\n",
       "    <tr>\n",
       "      <th>2021-09-01</th>\n",
       "      <td>528.4968</td>\n",
       "    </tr>\n",
       "    <tr>\n",
       "      <th>2021-10-01</th>\n",
       "      <td>547.0802</td>\n",
       "    </tr>\n",
       "    <tr>\n",
       "      <th>2021-11-01</th>\n",
       "      <td>560.9184</td>\n",
       "    </tr>\n",
       "    <tr>\n",
       "      <th>2021-12-01</th>\n",
       "      <td>582.4575</td>\n",
       "    </tr>\n",
       "  </tbody>\n",
       "</table>\n",
       "<p>61 rows × 1 columns</p>\n",
       "</div>"
      ],
      "text/plain": [
       "               nivel_general\n",
       "indice_tiempo               \n",
       "2016-12-01          100.0000\n",
       "2017-01-01          101.5859\n",
       "2017-02-01          103.6859\n",
       "2017-03-01          106.1476\n",
       "2017-04-01          108.9667\n",
       "...                      ...\n",
       "2021-08-01          510.3942\n",
       "2021-09-01          528.4968\n",
       "2021-10-01          547.0802\n",
       "2021-11-01          560.9184\n",
       "2021-12-01          582.4575\n",
       "\n",
       "[61 rows x 1 columns]"
      ]
     },
     "execution_count": 368,
     "metadata": {},
     "output_type": "execute_result"
    }
   ],
   "source": [
    "\n",
    "ipc_base_dic16_ng = ipc_base_dic16[[\n",
    "    \"indice_tiempo\", \"ipc_nivel_general_nacional\"]].set_index(\n",
    "        \"indice_tiempo\"\n",
    ").rename(\n",
    "    columns={\n",
    "        \"ipc_nivel_general_nacional\": \"nivel_general\"\n",
    "    }\n",
    ")\n",
    "ipc_base_dic16_ng\n"
   ]
  },
  {
   "cell_type": "markdown",
   "metadata": {},
   "source": [
    "## Homologación de bases IPC"
   ]
  },
  {
   "cell_type": "markdown",
   "metadata": {},
   "source": [
    "Para obtener la serie de inflación en el IPC se hace una cadena de empalmes. Esto puesto que hay tres cambios de base en los últimos diez años en el cálculo del IPC. "
   ]
  },
  {
   "cell_type": "markdown",
   "metadata": {},
   "source": [
    "### Empalme de datos I"
   ]
  },
  {
   "cell_type": "markdown",
   "metadata": {},
   "source": [
    "se empalman 4 series de datos:\n",
    "1. IPC Indec base 2006, desde enero 2006 hasta diciembre 2013.\n",
    "2. IPC Indec base 'octubre 2013 - septiembre 2014', desde enero 2013 hasta octubre 2015.\n",
    "3. IPC CABA base julio 2012, desde octubre 2015 hasta diciembre 2016.\n",
    "4. IPC Indec base diciembre 2016, desde diciembre 2016 hasta diciembre 2021."
   ]
  },
  {
   "cell_type": "markdown",
   "metadata": {},
   "source": [
    "#### Homologación de datos 2006 -> 2015"
   ]
  },
  {
   "cell_type": "markdown",
   "metadata": {},
   "source": [
    "Se empalma serie *enero 2013 -> octubre 2015 IPC INDEC base 'octubre 2013-septiembre 2014'* con la serie *enero 2006 -> enero 2013 INDEC base 2006*, obteniendo la serie ***enero 2006 -> diciembre 2015 IPC INDEC base 'octubre 2013-septiembre 2014'***\".\n",
    "\n"
   ]
  },
  {
   "cell_type": "markdown",
   "metadata": {},
   "source": [
    "Para esto se encuentra el coeficiente de la base octubre 2013 a septiembre 2014 con la base 2008 "
   ]
  },
  {
   "cell_type": "code",
   "execution_count": 369,
   "metadata": {},
   "outputs": [
    {
     "name": "stdout",
     "output_type": "stream",
     "text": [
      "base oct14-sept15       91.53459452711807\n",
      "base 2008:              166.84\n",
      "coeficiente de empalme  0.5486369846986219\n"
     ]
    }
   ],
   "source": [
    "base_08 = ipc_base_08_ng.loc[\"2013-12-01\"].at[\"nivel_general\"]\n",
    "base_oct13_sept14 = ipc_base_oct13_sept14_ng.loc[\"2013-12-01\"].at[\"nivel_general\"]\n",
    "ce_08_to_oct13sept14 = base_oct13_sept14/base_08\n",
    "print(f\"base oct14-sept15       {base_oct13_sept14}\")\n",
    "print(f\"base 2008:              {base_08}\")\n",
    "print(f\"coeficiente de empalme  {ce_08_to_oct13sept14}\")"
   ]
  },
  {
   "cell_type": "markdown",
   "metadata": {},
   "source": [
    "Luego se multiplica el coeficiente de homologación por cada IPC nivel general con base 2008"
   ]
  },
  {
   "cell_type": "code",
   "execution_count": 370,
   "metadata": {},
   "outputs": [
    {
     "data": {
      "text/html": [
       "<div>\n",
       "<style scoped>\n",
       "    .dataframe tbody tr th:only-of-type {\n",
       "        vertical-align: middle;\n",
       "    }\n",
       "\n",
       "    .dataframe tbody tr th {\n",
       "        vertical-align: top;\n",
       "    }\n",
       "\n",
       "    .dataframe thead th {\n",
       "        text-align: right;\n",
       "    }\n",
       "</style>\n",
       "<table border=\"1\" class=\"dataframe\">\n",
       "  <thead>\n",
       "    <tr style=\"text-align: right;\">\n",
       "      <th></th>\n",
       "      <th>nivel_general</th>\n",
       "    </tr>\n",
       "    <tr>\n",
       "      <th>indice_tiempo</th>\n",
       "      <th></th>\n",
       "    </tr>\n",
       "  </thead>\n",
       "  <tbody>\n",
       "    <tr>\n",
       "      <th>2006-12-01</th>\n",
       "      <td>48.916474</td>\n",
       "    </tr>\n",
       "    <tr>\n",
       "      <th>2007-01-01</th>\n",
       "      <td>49.476083</td>\n",
       "    </tr>\n",
       "    <tr>\n",
       "      <th>2007-02-01</th>\n",
       "      <td>49.624215</td>\n",
       "    </tr>\n",
       "    <tr>\n",
       "      <th>2007-03-01</th>\n",
       "      <td>50.002775</td>\n",
       "    </tr>\n",
       "    <tr>\n",
       "      <th>2007-04-01</th>\n",
       "      <td>50.375848</td>\n",
       "    </tr>\n",
       "    <tr>\n",
       "      <th>...</th>\n",
       "      <td>...</td>\n",
       "    </tr>\n",
       "    <tr>\n",
       "      <th>2013-08-01</th>\n",
       "      <td>87.908104</td>\n",
       "    </tr>\n",
       "    <tr>\n",
       "      <th>2013-09-01</th>\n",
       "      <td>88.637791</td>\n",
       "    </tr>\n",
       "    <tr>\n",
       "      <th>2013-10-01</th>\n",
       "      <td>89.427829</td>\n",
       "    </tr>\n",
       "    <tr>\n",
       "      <th>2013-11-01</th>\n",
       "      <td>90.256270</td>\n",
       "    </tr>\n",
       "    <tr>\n",
       "      <th>2013-12-01</th>\n",
       "      <td>91.534595</td>\n",
       "    </tr>\n",
       "  </tbody>\n",
       "</table>\n",
       "<p>85 rows × 1 columns</p>\n",
       "</div>"
      ],
      "text/plain": [
       "               nivel_general\n",
       "indice_tiempo               \n",
       "2006-12-01         48.916474\n",
       "2007-01-01         49.476083\n",
       "2007-02-01         49.624215\n",
       "2007-03-01         50.002775\n",
       "2007-04-01         50.375848\n",
       "...                      ...\n",
       "2013-08-01         87.908104\n",
       "2013-09-01         88.637791\n",
       "2013-10-01         89.427829\n",
       "2013-11-01         90.256270\n",
       "2013-12-01         91.534595\n",
       "\n",
       "[85 rows x 1 columns]"
      ]
     },
     "execution_count": 370,
     "metadata": {},
     "output_type": "execute_result"
    }
   ],
   "source": [
    "ipc_h_08_boct13sept14_ng = ipc_base_08_ng.apply(lambda x: x*ce_08_to_oct13sept14)\n",
    "\"\"\"\n",
    "IPC con base 2008 Homologado con base oct 13 - sept 14\n",
    "\"\"\"\n",
    "ipc_h_08_boct13sept14_ng"
   ]
  },
  {
   "cell_type": "markdown",
   "metadata": {},
   "source": [
    "Finalmente se concatenan ambas series, homologadas con base octubre 13 septiembre 14"
   ]
  },
  {
   "cell_type": "code",
   "execution_count": 371,
   "metadata": {},
   "outputs": [
    {
     "data": {
      "text/html": [
       "<div>\n",
       "<style scoped>\n",
       "    .dataframe tbody tr th:only-of-type {\n",
       "        vertical-align: middle;\n",
       "    }\n",
       "\n",
       "    .dataframe tbody tr th {\n",
       "        vertical-align: top;\n",
       "    }\n",
       "\n",
       "    .dataframe thead th {\n",
       "        text-align: right;\n",
       "    }\n",
       "</style>\n",
       "<table border=\"1\" class=\"dataframe\">\n",
       "  <thead>\n",
       "    <tr style=\"text-align: right;\">\n",
       "      <th></th>\n",
       "      <th>nivel_general</th>\n",
       "    </tr>\n",
       "    <tr>\n",
       "      <th>indice_tiempo</th>\n",
       "      <th></th>\n",
       "    </tr>\n",
       "  </thead>\n",
       "  <tbody>\n",
       "    <tr>\n",
       "      <th>2006-12-01</th>\n",
       "      <td>48.916474</td>\n",
       "    </tr>\n",
       "    <tr>\n",
       "      <th>2007-01-01</th>\n",
       "      <td>49.476083</td>\n",
       "    </tr>\n",
       "    <tr>\n",
       "      <th>2007-02-01</th>\n",
       "      <td>49.624215</td>\n",
       "    </tr>\n",
       "    <tr>\n",
       "      <th>2007-03-01</th>\n",
       "      <td>50.002775</td>\n",
       "    </tr>\n",
       "    <tr>\n",
       "      <th>2007-04-01</th>\n",
       "      <td>50.375848</td>\n",
       "    </tr>\n",
       "    <tr>\n",
       "      <th>...</th>\n",
       "      <td>...</td>\n",
       "    </tr>\n",
       "    <tr>\n",
       "      <th>2015-06-01</th>\n",
       "      <td>120.980000</td>\n",
       "    </tr>\n",
       "    <tr>\n",
       "      <th>2015-07-01</th>\n",
       "      <td>122.590000</td>\n",
       "    </tr>\n",
       "    <tr>\n",
       "      <th>2015-08-01</th>\n",
       "      <td>124.030000</td>\n",
       "    </tr>\n",
       "    <tr>\n",
       "      <th>2015-09-01</th>\n",
       "      <td>125.490000</td>\n",
       "    </tr>\n",
       "    <tr>\n",
       "      <th>2015-10-01</th>\n",
       "      <td>126.880000</td>\n",
       "    </tr>\n",
       "  </tbody>\n",
       "</table>\n",
       "<p>107 rows × 1 columns</p>\n",
       "</div>"
      ],
      "text/plain": [
       "               nivel_general\n",
       "indice_tiempo               \n",
       "2006-12-01         48.916474\n",
       "2007-01-01         49.476083\n",
       "2007-02-01         49.624215\n",
       "2007-03-01         50.002775\n",
       "2007-04-01         50.375848\n",
       "...                      ...\n",
       "2015-06-01        120.980000\n",
       "2015-07-01        122.590000\n",
       "2015-08-01        124.030000\n",
       "2015-09-01        125.490000\n",
       "2015-10-01        126.880000\n",
       "\n",
       "[107 rows x 1 columns]"
      ]
     },
     "execution_count": 371,
     "metadata": {},
     "output_type": "execute_result"
    }
   ],
   "source": [
    "ipc_06_to_15_base_oct13sept14 = pd.concat(\n",
    "    [ipc_h_08_boct13sept14_ng, ipc_base_oct13_sept14_ng], axis=0).drop_duplicates()\n",
    "\"\"\"\n",
    "IPC del 2006 al 2015 con base en octubre 13 - septiembre 14\n",
    "\"\"\"\n",
    "# ipc_06_to_15_base_oct13sept14.to_csv(\"./data/IPC_H/ipc_2006_2015_base_oct13_sept14.csv\")\n",
    "ipc_06_to_15_base_oct13sept14\n"
   ]
  },
  {
   "cell_type": "code",
   "execution_count": 372,
   "metadata": {},
   "outputs": [
    {
     "data": {
      "text/plain": [
       "<AxesSubplot:xlabel='indice_tiempo'>"
      ]
     },
     "execution_count": 372,
     "metadata": {},
     "output_type": "execute_result"
    },
    {
     "data": {
      "image/png": "[encoded data removed]",
      "text/plain": [
       "<Figure size 864x360 with 1 Axes>"
      ]
     },
     "metadata": {
      "needs_background": "light"
     },
     "output_type": "display_data"
    }
   ],
   "source": [
    "ipc_06_to_15_base_oct13sept14.plot(figsize=(12,5))"
   ]
  },
  {
   "cell_type": "code",
   "execution_count": 373,
   "metadata": {},
   "outputs": [
    {
     "data": {
      "text/plain": [
       "<AxesSubplot:xlabel='indice_tiempo'>"
      ]
     },
     "execution_count": 373,
     "metadata": {},
     "output_type": "execute_result"
    },
    {
     "data": {
      "image/png": "[encoded data removed]",
      "text/plain": [
       "<Figure size 864x720 with 1 Axes>"
      ]
     },
     "metadata": {
      "needs_background": "light"
     },
     "output_type": "display_data"
    }
   ],
   "source": [
    "ipc_06_to_15_base_oct13sept14.loc[\"2013-11-01\":\"2014-01-01\"].plot(figsize=(12,10))"
   ]
  },
  {
   "cell_type": "markdown",
   "metadata": {},
   "source": [
    "#### Hmologación enero 2006 -> diciembre 2016"
   ]
  },
  {
   "cell_type": "markdown",
   "metadata": {},
   "source": [
    "Se empalma serie *enero 2006 -> octubre 2015 IPC INDEC base 'octubre 2013-septiembre 2014'* con la serie *octubre 2015 ->  diciembre 2016 IPC CABA base 2012*, obteniendo la serie ***enero 2006 -> diciembre 2016 IPC CABA base 2012***\".\n",
    "\n"
   ]
  },
  {
   "cell_type": "markdown",
   "metadata": {},
   "source": [
    "Se calcula el coeficiente de empalme"
   ]
  },
  {
   "cell_type": "code",
   "execution_count": 374,
   "metadata": {},
   "outputs": [
    {
     "name": "stdout",
     "output_type": "stream",
     "text": [
      "\n",
      "IPC Indec base 'octubre 2013 - septiembre 2014':        91.53459452711807\n",
      "IPC Caba base julio 2012:                               256.42\n",
      "coeficiente de empalme:                                 2.0209646910466583\n",
      "\n"
     ]
    }
   ],
   "source": [
    "base_oct13_sep14 = ipc_06_to_15_base_oct13sept14.loc[\"2015-10-01\"].at[\"nivel_general\"]\n",
    "base_CABAjul12 = ipc_caba_base_jul12_ng.loc[\"2015-10-01\"].at[\"nivel_general\"]\n",
    "ce_oct13sep14_to_CABAjul12 = base_CABAjul12 / base_oct13_sep14\n",
    "\n",
    "print(f\"\"\"\n",
    "IPC Indec base 'octubre 2013 - septiembre 2014':        {base_oct13_sept14}\n",
    "IPC Caba base julio 2012:                               {base_CABAjul12}\n",
    "coeficiente de empalme:                                 {ce_oct13sep14_to_CABAjul12}\n",
    "\"\"\")"
   ]
  },
  {
   "cell_type": "markdown",
   "metadata": {},
   "source": [
    "Se aplica el coeficiente de empalme multiplicandolo por cada indice de la serie enero 2016 -> octubre 2015 INDEC base 'octubre 13 - septiembre 14'"
   ]
  },
  {
   "cell_type": "code",
   "execution_count": 375,
   "metadata": {},
   "outputs": [],
   "source": [
    "tmp = ipc_06_to_15_base_oct13sept14.apply(\n",
    "    lambda x: x*ce_oct13sep14_to_CABAjul12)\n"
   ]
  },
  {
   "cell_type": "markdown",
   "metadata": {},
   "source": [
    "* muestra de la tabla:"
   ]
  },
  {
   "cell_type": "code",
   "execution_count": 376,
   "metadata": {},
   "outputs": [
    {
     "data": {
      "text/html": [
       "<div>\n",
       "<style scoped>\n",
       "    .dataframe tbody tr th:only-of-type {\n",
       "        vertical-align: middle;\n",
       "    }\n",
       "\n",
       "    .dataframe tbody tr th {\n",
       "        vertical-align: top;\n",
       "    }\n",
       "\n",
       "    .dataframe thead th {\n",
       "        text-align: right;\n",
       "    }\n",
       "</style>\n",
       "<table border=\"1\" class=\"dataframe\">\n",
       "  <thead>\n",
       "    <tr style=\"text-align: right;\">\n",
       "      <th></th>\n",
       "      <th>nivel_general</th>\n",
       "    </tr>\n",
       "    <tr>\n",
       "      <th>indice_tiempo</th>\n",
       "      <th></th>\n",
       "    </tr>\n",
       "  </thead>\n",
       "  <tbody>\n",
       "    <tr>\n",
       "      <th>2006-12-01</th>\n",
       "      <td>98.858466</td>\n",
       "    </tr>\n",
       "    <tr>\n",
       "      <th>2007-01-01</th>\n",
       "      <td>99.989417</td>\n",
       "    </tr>\n",
       "    <tr>\n",
       "      <th>2007-02-01</th>\n",
       "      <td>100.288787</td>\n",
       "    </tr>\n",
       "    <tr>\n",
       "      <th>2007-03-01</th>\n",
       "      <td>101.053842</td>\n",
       "    </tr>\n",
       "    <tr>\n",
       "      <th>2007-04-01</th>\n",
       "      <td>101.807810</td>\n",
       "    </tr>\n",
       "    <tr>\n",
       "      <th>...</th>\n",
       "      <td>...</td>\n",
       "    </tr>\n",
       "    <tr>\n",
       "      <th>2015-06-01</th>\n",
       "      <td>244.496308</td>\n",
       "    </tr>\n",
       "    <tr>\n",
       "      <th>2015-07-01</th>\n",
       "      <td>247.750061</td>\n",
       "    </tr>\n",
       "    <tr>\n",
       "      <th>2015-08-01</th>\n",
       "      <td>250.660251</td>\n",
       "    </tr>\n",
       "    <tr>\n",
       "      <th>2015-09-01</th>\n",
       "      <td>253.610859</td>\n",
       "    </tr>\n",
       "    <tr>\n",
       "      <th>2015-10-01</th>\n",
       "      <td>256.420000</td>\n",
       "    </tr>\n",
       "  </tbody>\n",
       "</table>\n",
       "<p>107 rows × 1 columns</p>\n",
       "</div>"
      ],
      "text/plain": [
       "               nivel_general\n",
       "indice_tiempo               \n",
       "2006-12-01         98.858466\n",
       "2007-01-01         99.989417\n",
       "2007-02-01        100.288787\n",
       "2007-03-01        101.053842\n",
       "2007-04-01        101.807810\n",
       "...                      ...\n",
       "2015-06-01        244.496308\n",
       "2015-07-01        247.750061\n",
       "2015-08-01        250.660251\n",
       "2015-09-01        253.610859\n",
       "2015-10-01        256.420000\n",
       "\n",
       "[107 rows x 1 columns]"
      ]
     },
     "execution_count": 376,
     "metadata": {},
     "output_type": "execute_result"
    }
   ],
   "source": [
    "tmp"
   ]
  },
  {
   "cell_type": "markdown",
   "metadata": {},
   "source": [
    "Se concatenan ambas series"
   ]
  },
  {
   "cell_type": "code",
   "execution_count": 377,
   "metadata": {},
   "outputs": [],
   "source": [
    "\n",
    "ipc_06_to_16_base_CABAjul12 = pd.concat(\n",
    "    [tmp, ipc_caba_base_jul12_ng.loc[\"2015-10-01\":]], axis=0).drop_duplicates()\n",
    "    \n"
   ]
  },
  {
   "cell_type": "markdown",
   "metadata": {},
   "source": [
    "* muestra de la serie resultado"
   ]
  },
  {
   "cell_type": "code",
   "execution_count": 378,
   "metadata": {},
   "outputs": [
    {
     "data": {
      "text/html": [
       "<div>\n",
       "<style scoped>\n",
       "    .dataframe tbody tr th:only-of-type {\n",
       "        vertical-align: middle;\n",
       "    }\n",
       "\n",
       "    .dataframe tbody tr th {\n",
       "        vertical-align: top;\n",
       "    }\n",
       "\n",
       "    .dataframe thead th {\n",
       "        text-align: right;\n",
       "    }\n",
       "</style>\n",
       "<table border=\"1\" class=\"dataframe\">\n",
       "  <thead>\n",
       "    <tr style=\"text-align: right;\">\n",
       "      <th></th>\n",
       "      <th>nivel_general</th>\n",
       "    </tr>\n",
       "    <tr>\n",
       "      <th>indice_tiempo</th>\n",
       "      <th></th>\n",
       "    </tr>\n",
       "  </thead>\n",
       "  <tbody>\n",
       "    <tr>\n",
       "      <th>2006-12-01</th>\n",
       "      <td>98.858466</td>\n",
       "    </tr>\n",
       "    <tr>\n",
       "      <th>2007-01-01</th>\n",
       "      <td>99.989417</td>\n",
       "    </tr>\n",
       "    <tr>\n",
       "      <th>2007-02-01</th>\n",
       "      <td>100.288787</td>\n",
       "    </tr>\n",
       "    <tr>\n",
       "      <th>2007-03-01</th>\n",
       "      <td>101.053842</td>\n",
       "    </tr>\n",
       "    <tr>\n",
       "      <th>2007-04-01</th>\n",
       "      <td>101.807810</td>\n",
       "    </tr>\n",
       "    <tr>\n",
       "      <th>...</th>\n",
       "      <td>...</td>\n",
       "    </tr>\n",
       "    <tr>\n",
       "      <th>2021-07-01</th>\n",
       "      <td>1754.550000</td>\n",
       "    </tr>\n",
       "    <tr>\n",
       "      <th>2021-08-01</th>\n",
       "      <td>1805.720000</td>\n",
       "    </tr>\n",
       "    <tr>\n",
       "      <th>2021-09-01</th>\n",
       "      <td>1866.860000</td>\n",
       "    </tr>\n",
       "    <tr>\n",
       "      <th>2021-10-01</th>\n",
       "      <td>1935.780000</td>\n",
       "    </tr>\n",
       "    <tr>\n",
       "      <th>2021-11-01</th>\n",
       "      <td>1984.350000</td>\n",
       "    </tr>\n",
       "  </tbody>\n",
       "</table>\n",
       "<p>180 rows × 1 columns</p>\n",
       "</div>"
      ],
      "text/plain": [
       "               nivel_general\n",
       "indice_tiempo               \n",
       "2006-12-01         98.858466\n",
       "2007-01-01         99.989417\n",
       "2007-02-01        100.288787\n",
       "2007-03-01        101.053842\n",
       "2007-04-01        101.807810\n",
       "...                      ...\n",
       "2021-07-01       1754.550000\n",
       "2021-08-01       1805.720000\n",
       "2021-09-01       1866.860000\n",
       "2021-10-01       1935.780000\n",
       "2021-11-01       1984.350000\n",
       "\n",
       "[180 rows x 1 columns]"
      ]
     },
     "execution_count": 378,
     "metadata": {},
     "output_type": "execute_result"
    }
   ],
   "source": [
    "ipc_06_to_16_base_CABAjul12\n"
   ]
  },
  {
   "cell_type": "markdown",
   "metadata": {},
   "source": [
    "* gráfico de la serie resultado"
   ]
  },
  {
   "cell_type": "code",
   "execution_count": 379,
   "metadata": {},
   "outputs": [
    {
     "data": {
      "text/plain": [
       "<AxesSubplot:xlabel='indice_tiempo'>"
      ]
     },
     "execution_count": 379,
     "metadata": {},
     "output_type": "execute_result"
    },
    {
     "data": {
      "image/png": "[encoded data removed]",
      "text/plain": [
       "<Figure size 1008x360 with 1 Axes>"
      ]
     },
     "metadata": {
      "needs_background": "light"
     },
     "output_type": "display_data"
    }
   ],
   "source": [
    "ipc_06_to_16_base_CABAjul12.loc[:\"2016-12-1\"].plot(figsize=(14,5))"
   ]
  },
  {
   "cell_type": "markdown",
   "metadata": {},
   "source": [
    "#### Homologación enero 2006 -> diciembre 2021"
   ]
  },
  {
   "cell_type": "markdown",
   "metadata": {},
   "source": [
    "Se empalma serie *diciembre 2016 -> diciembre 2021 IPC INDEC base diciembre 2016* con la serie *enero 2006 -> diciembre 2016 IPC CABA julio 2012*, obteniendo la serie ***enero 2006 -> diciembre 2021 IPC INDEC base diciembre 2016***\".\n",
    "\n"
   ]
  },
  {
   "cell_type": "markdown",
   "metadata": {},
   "source": [
    "se calcula el coeficiente de empalme"
   ]
  },
  {
   "cell_type": "code",
   "execution_count": 380,
   "metadata": {},
   "outputs": [
    {
     "name": "stdout",
     "output_type": "stream",
     "text": [
      "\n",
      "base INDEC diciembre 2016:          100.0\n",
      "base CABA julio 2012                383.19\n",
      "coeficiente de empalme:             0.2609671442365406\n",
      "\n"
     ]
    }
   ],
   "source": [
    "base_dic16 = ipc_base_dic16_ng.loc[\"2016-12-01\"].at[\"nivel_general\"]\n",
    "base_CABAjul12 = ipc_06_to_16_base_CABAjul12.loc[\"2016-12-01\"].at[\"nivel_general\"]\n",
    "ce_CABAjul12_to_INDECdic16 = base_dic16/base_CABAjul12\n",
    "\n",
    "print(f\"\"\"\n",
    "base INDEC diciembre 2016:          {base_dic16}\n",
    "base CABA julio 2012                {base_CABAjul12}\n",
    "coeficiente de empalme:             {ce_CABAjul12_to_INDECdic16}\n",
    "\"\"\")"
   ]
  },
  {
   "cell_type": "markdown",
   "metadata": {},
   "source": [
    "Se aplica a la serie enero 2006 -> diciembre 2016 IPC CABA base julio 2012, multiplicando cáda índice por el coeficiente de empalme"
   ]
  },
  {
   "cell_type": "code",
   "execution_count": 381,
   "metadata": {},
   "outputs": [],
   "source": [
    "tmp = ipc_06_to_16_base_CABAjul12.loc[:\"2016-12-01\"].apply(\n",
    "    lambda x: x*ce_CABAjul12_to_INDECdic16)\n"
   ]
  },
  {
   "cell_type": "markdown",
   "metadata": {},
   "source": [
    "* muestra de la tabla"
   ]
  },
  {
   "cell_type": "code",
   "execution_count": 382,
   "metadata": {},
   "outputs": [
    {
     "data": {
      "text/html": [
       "<div>\n",
       "<style scoped>\n",
       "    .dataframe tbody tr th:only-of-type {\n",
       "        vertical-align: middle;\n",
       "    }\n",
       "\n",
       "    .dataframe tbody tr th {\n",
       "        vertical-align: top;\n",
       "    }\n",
       "\n",
       "    .dataframe thead th {\n",
       "        text-align: right;\n",
       "    }\n",
       "</style>\n",
       "<table border=\"1\" class=\"dataframe\">\n",
       "  <thead>\n",
       "    <tr style=\"text-align: right;\">\n",
       "      <th></th>\n",
       "      <th>nivel_general</th>\n",
       "    </tr>\n",
       "    <tr>\n",
       "      <th>indice_tiempo</th>\n",
       "      <th></th>\n",
       "    </tr>\n",
       "  </thead>\n",
       "  <tbody>\n",
       "    <tr>\n",
       "      <th>2006-12-01</th>\n",
       "      <td>25.798812</td>\n",
       "    </tr>\n",
       "    <tr>\n",
       "      <th>2007-01-01</th>\n",
       "      <td>26.093953</td>\n",
       "    </tr>\n",
       "    <tr>\n",
       "      <th>2007-02-01</th>\n",
       "      <td>26.172078</td>\n",
       "    </tr>\n",
       "    <tr>\n",
       "      <th>2007-03-01</th>\n",
       "      <td>26.371733</td>\n",
       "    </tr>\n",
       "    <tr>\n",
       "      <th>2007-04-01</th>\n",
       "      <td>26.568493</td>\n",
       "    </tr>\n",
       "    <tr>\n",
       "      <th>...</th>\n",
       "      <td>...</td>\n",
       "    </tr>\n",
       "    <tr>\n",
       "      <th>2016-08-01</th>\n",
       "      <td>92.878207</td>\n",
       "    </tr>\n",
       "    <tr>\n",
       "      <th>2016-09-01</th>\n",
       "      <td>94.125630</td>\n",
       "    </tr>\n",
       "    <tr>\n",
       "      <th>2016-10-01</th>\n",
       "      <td>96.855346</td>\n",
       "    </tr>\n",
       "    <tr>\n",
       "      <th>2016-11-01</th>\n",
       "      <td>98.773454</td>\n",
       "    </tr>\n",
       "    <tr>\n",
       "      <th>2016-12-01</th>\n",
       "      <td>100.000000</td>\n",
       "    </tr>\n",
       "  </tbody>\n",
       "</table>\n",
       "<p>121 rows × 1 columns</p>\n",
       "</div>"
      ],
      "text/plain": [
       "               nivel_general\n",
       "indice_tiempo               \n",
       "2006-12-01         25.798812\n",
       "2007-01-01         26.093953\n",
       "2007-02-01         26.172078\n",
       "2007-03-01         26.371733\n",
       "2007-04-01         26.568493\n",
       "...                      ...\n",
       "2016-08-01         92.878207\n",
       "2016-09-01         94.125630\n",
       "2016-10-01         96.855346\n",
       "2016-11-01         98.773454\n",
       "2016-12-01        100.000000\n",
       "\n",
       "[121 rows x 1 columns]"
      ]
     },
     "execution_count": 382,
     "metadata": {},
     "output_type": "execute_result"
    }
   ],
   "source": [
    "tmp.loc[:\"2016-12-01\"]"
   ]
  },
  {
   "cell_type": "markdown",
   "metadata": {},
   "source": [
    "finalmente concatenamos ambas series"
   ]
  },
  {
   "cell_type": "code",
   "execution_count": 383,
   "metadata": {},
   "outputs": [],
   "source": [
    "ipc_06_to_21_base_INDECdic16_I = pd.concat([tmp, ipc_base_dic16_ng]).drop_duplicates()\n"
   ]
  },
  {
   "cell_type": "markdown",
   "metadata": {},
   "source": [
    "* muestra de la serie resultado"
   ]
  },
  {
   "cell_type": "code",
   "execution_count": 384,
   "metadata": {},
   "outputs": [
    {
     "data": {
      "text/html": [
       "<div>\n",
       "<style scoped>\n",
       "    .dataframe tbody tr th:only-of-type {\n",
       "        vertical-align: middle;\n",
       "    }\n",
       "\n",
       "    .dataframe tbody tr th {\n",
       "        vertical-align: top;\n",
       "    }\n",
       "\n",
       "    .dataframe thead th {\n",
       "        text-align: right;\n",
       "    }\n",
       "</style>\n",
       "<table border=\"1\" class=\"dataframe\">\n",
       "  <thead>\n",
       "    <tr style=\"text-align: right;\">\n",
       "      <th></th>\n",
       "      <th>nivel_general</th>\n",
       "    </tr>\n",
       "    <tr>\n",
       "      <th>indice_tiempo</th>\n",
       "      <th></th>\n",
       "    </tr>\n",
       "  </thead>\n",
       "  <tbody>\n",
       "    <tr>\n",
       "      <th>2006-12-01</th>\n",
       "      <td>25.798812</td>\n",
       "    </tr>\n",
       "    <tr>\n",
       "      <th>2007-01-01</th>\n",
       "      <td>26.093953</td>\n",
       "    </tr>\n",
       "    <tr>\n",
       "      <th>2007-02-01</th>\n",
       "      <td>26.172078</td>\n",
       "    </tr>\n",
       "    <tr>\n",
       "      <th>2007-03-01</th>\n",
       "      <td>26.371733</td>\n",
       "    </tr>\n",
       "    <tr>\n",
       "      <th>2007-04-01</th>\n",
       "      <td>26.568493</td>\n",
       "    </tr>\n",
       "    <tr>\n",
       "      <th>...</th>\n",
       "      <td>...</td>\n",
       "    </tr>\n",
       "    <tr>\n",
       "      <th>2021-08-01</th>\n",
       "      <td>510.394200</td>\n",
       "    </tr>\n",
       "    <tr>\n",
       "      <th>2021-09-01</th>\n",
       "      <td>528.496800</td>\n",
       "    </tr>\n",
       "    <tr>\n",
       "      <th>2021-10-01</th>\n",
       "      <td>547.080200</td>\n",
       "    </tr>\n",
       "    <tr>\n",
       "      <th>2021-11-01</th>\n",
       "      <td>560.918400</td>\n",
       "    </tr>\n",
       "    <tr>\n",
       "      <th>2021-12-01</th>\n",
       "      <td>582.457500</td>\n",
       "    </tr>\n",
       "  </tbody>\n",
       "</table>\n",
       "<p>181 rows × 1 columns</p>\n",
       "</div>"
      ],
      "text/plain": [
       "               nivel_general\n",
       "indice_tiempo               \n",
       "2006-12-01         25.798812\n",
       "2007-01-01         26.093953\n",
       "2007-02-01         26.172078\n",
       "2007-03-01         26.371733\n",
       "2007-04-01         26.568493\n",
       "...                      ...\n",
       "2021-08-01        510.394200\n",
       "2021-09-01        528.496800\n",
       "2021-10-01        547.080200\n",
       "2021-11-01        560.918400\n",
       "2021-12-01        582.457500\n",
       "\n",
       "[181 rows x 1 columns]"
      ]
     },
     "execution_count": 384,
     "metadata": {},
     "output_type": "execute_result"
    }
   ],
   "source": [
    "ipc_06_to_21_base_INDECdic16_I\n"
   ]
  },
  {
   "cell_type": "markdown",
   "metadata": {},
   "source": [
    "* gráfico de la serie resultado"
   ]
  },
  {
   "cell_type": "code",
   "execution_count": 385,
   "metadata": {},
   "outputs": [
    {
     "data": {
      "text/plain": [
       "<AxesSubplot:xlabel='indice_tiempo'>"
      ]
     },
     "execution_count": 385,
     "metadata": {},
     "output_type": "execute_result"
    },
    {
     "data": {
      "image/png": "[encoded data removed]",
      "text/plain": [
       "<Figure size 1008x576 with 1 Axes>"
      ]
     },
     "metadata": {
      "needs_background": "light"
     },
     "output_type": "display_data"
    }
   ],
   "source": [
    "ipc_06_to_21_base_INDECdic16_I.plot(figsize=(14,8))"
   ]
  },
  {
   "cell_type": "code",
   "execution_count": 386,
   "metadata": {},
   "outputs": [],
   "source": [
    "ipc_06_to_21_base_INDECdic16_I.to_csv(\"./data/IPC_H/ipc_enero2006_dic2021_homologacion_base_indec_dic2016_I.csv\")"
   ]
  },
  {
   "cell_type": "markdown",
   "metadata": {},
   "source": [
    "### Empalme de datos II"
   ]
  },
  {
   "cell_type": "markdown",
   "metadata": {},
   "source": [
    "se empalman 3 series de datos\n",
    "1. IPC Indec base 2008, desde enero 2006 hasta diciembre 2013.\n",
    "2. IPC CABA base julio 2012, desde diciembre 2013 hasta diciembre 2016.\n",
    "3. IPC Indec base diciembre 2016, desde diciembre 2016 hasta diciembre 2021."
   ]
  },
  {
   "cell_type": "markdown",
   "metadata": {},
   "source": [
    "#### Homologación de datos 2006 -> 2016"
   ]
  },
  {
   "cell_type": "markdown",
   "metadata": {},
   "source": [
    "Se empalma la serie diciembre 2013 -> diciembre 2016 IPC CABA base julio 2012 con la serie enero 2006 -> diciembre 2013 IPC Indec base abril 2008. Obteniendo así una nueva serie: enero 2006 -> diciembre 2016 IPC Caba base julio 2012."
   ]
  },
  {
   "cell_type": "markdown",
   "metadata": {},
   "source": [
    "* muestra de la serie enero 2006 -> diciembre 2013 IPC Indec base abril 2008"
   ]
  },
  {
   "cell_type": "code",
   "execution_count": 387,
   "metadata": {},
   "outputs": [
    {
     "data": {
      "text/html": [
       "<div>\n",
       "<style scoped>\n",
       "    .dataframe tbody tr th:only-of-type {\n",
       "        vertical-align: middle;\n",
       "    }\n",
       "\n",
       "    .dataframe tbody tr th {\n",
       "        vertical-align: top;\n",
       "    }\n",
       "\n",
       "    .dataframe thead th {\n",
       "        text-align: right;\n",
       "    }\n",
       "</style>\n",
       "<table border=\"1\" class=\"dataframe\">\n",
       "  <thead>\n",
       "    <tr style=\"text-align: right;\">\n",
       "      <th></th>\n",
       "      <th>nivel_general</th>\n",
       "    </tr>\n",
       "    <tr>\n",
       "      <th>indice_tiempo</th>\n",
       "      <th></th>\n",
       "    </tr>\n",
       "  </thead>\n",
       "  <tbody>\n",
       "    <tr>\n",
       "      <th>2006-12-01</th>\n",
       "      <td>89.16</td>\n",
       "    </tr>\n",
       "    <tr>\n",
       "      <th>2007-01-01</th>\n",
       "      <td>90.18</td>\n",
       "    </tr>\n",
       "    <tr>\n",
       "      <th>2007-02-01</th>\n",
       "      <td>90.45</td>\n",
       "    </tr>\n",
       "    <tr>\n",
       "      <th>2007-03-01</th>\n",
       "      <td>91.14</td>\n",
       "    </tr>\n",
       "    <tr>\n",
       "      <th>2007-04-01</th>\n",
       "      <td>91.82</td>\n",
       "    </tr>\n",
       "    <tr>\n",
       "      <th>...</th>\n",
       "      <td>...</td>\n",
       "    </tr>\n",
       "    <tr>\n",
       "      <th>2013-08-01</th>\n",
       "      <td>160.23</td>\n",
       "    </tr>\n",
       "    <tr>\n",
       "      <th>2013-09-01</th>\n",
       "      <td>161.56</td>\n",
       "    </tr>\n",
       "    <tr>\n",
       "      <th>2013-10-01</th>\n",
       "      <td>163.00</td>\n",
       "    </tr>\n",
       "    <tr>\n",
       "      <th>2013-11-01</th>\n",
       "      <td>164.51</td>\n",
       "    </tr>\n",
       "    <tr>\n",
       "      <th>2013-12-01</th>\n",
       "      <td>166.84</td>\n",
       "    </tr>\n",
       "  </tbody>\n",
       "</table>\n",
       "<p>85 rows × 1 columns</p>\n",
       "</div>"
      ],
      "text/plain": [
       "               nivel_general\n",
       "indice_tiempo               \n",
       "2006-12-01             89.16\n",
       "2007-01-01             90.18\n",
       "2007-02-01             90.45\n",
       "2007-03-01             91.14\n",
       "2007-04-01             91.82\n",
       "...                      ...\n",
       "2013-08-01            160.23\n",
       "2013-09-01            161.56\n",
       "2013-10-01            163.00\n",
       "2013-11-01            164.51\n",
       "2013-12-01            166.84\n",
       "\n",
       "[85 rows x 1 columns]"
      ]
     },
     "execution_count": 387,
     "metadata": {},
     "output_type": "execute_result"
    }
   ],
   "source": [
    "ipc_indec_06_13 = ipc_base_08_ng # alias\n",
    "ipc_indec_06_13"
   ]
  },
  {
   "cell_type": "markdown",
   "metadata": {},
   "source": [
    "* muestra de la serie diciembre 2013 -> diciembre 2016 IPC CABA base julio 2012"
   ]
  },
  {
   "cell_type": "code",
   "execution_count": 388,
   "metadata": {},
   "outputs": [
    {
     "data": {
      "text/html": [
       "<div>\n",
       "<style scoped>\n",
       "    .dataframe tbody tr th:only-of-type {\n",
       "        vertical-align: middle;\n",
       "    }\n",
       "\n",
       "    .dataframe tbody tr th {\n",
       "        vertical-align: top;\n",
       "    }\n",
       "\n",
       "    .dataframe thead th {\n",
       "        text-align: right;\n",
       "    }\n",
       "</style>\n",
       "<table border=\"1\" class=\"dataframe\">\n",
       "  <thead>\n",
       "    <tr style=\"text-align: right;\">\n",
       "      <th></th>\n",
       "      <th>nivel_general</th>\n",
       "    </tr>\n",
       "    <tr>\n",
       "      <th>indice_tiempo</th>\n",
       "      <th></th>\n",
       "    </tr>\n",
       "  </thead>\n",
       "  <tbody>\n",
       "    <tr>\n",
       "      <th>2013-12-01</th>\n",
       "      <td>155.06</td>\n",
       "    </tr>\n",
       "    <tr>\n",
       "      <th>2014-01-01</th>\n",
       "      <td>162.50</td>\n",
       "    </tr>\n",
       "    <tr>\n",
       "      <th>2014-02-01</th>\n",
       "      <td>169.61</td>\n",
       "    </tr>\n",
       "    <tr>\n",
       "      <th>2014-03-01</th>\n",
       "      <td>175.80</td>\n",
       "    </tr>\n",
       "    <tr>\n",
       "      <th>2014-04-01</th>\n",
       "      <td>181.29</td>\n",
       "    </tr>\n",
       "    <tr>\n",
       "      <th>2014-05-01</th>\n",
       "      <td>185.81</td>\n",
       "    </tr>\n",
       "    <tr>\n",
       "      <th>2014-06-01</th>\n",
       "      <td>190.15</td>\n",
       "    </tr>\n",
       "    <tr>\n",
       "      <th>2014-07-01</th>\n",
       "      <td>194.38</td>\n",
       "    </tr>\n",
       "    <tr>\n",
       "      <th>2014-08-01</th>\n",
       "      <td>198.80</td>\n",
       "    </tr>\n",
       "    <tr>\n",
       "      <th>2014-09-01</th>\n",
       "      <td>203.27</td>\n",
       "    </tr>\n",
       "    <tr>\n",
       "      <th>2014-10-01</th>\n",
       "      <td>207.19</td>\n",
       "    </tr>\n",
       "    <tr>\n",
       "      <th>2014-11-01</th>\n",
       "      <td>210.97</td>\n",
       "    </tr>\n",
       "    <tr>\n",
       "      <th>2014-12-01</th>\n",
       "      <td>214.04</td>\n",
       "    </tr>\n",
       "    <tr>\n",
       "      <th>2015-01-01</th>\n",
       "      <td>218.23</td>\n",
       "    </tr>\n",
       "    <tr>\n",
       "      <th>2015-02-01</th>\n",
       "      <td>221.40</td>\n",
       "    </tr>\n",
       "    <tr>\n",
       "      <th>2015-03-01</th>\n",
       "      <td>225.08</td>\n",
       "    </tr>\n",
       "    <tr>\n",
       "      <th>2015-04-01</th>\n",
       "      <td>230.41</td>\n",
       "    </tr>\n",
       "    <tr>\n",
       "      <th>2015-05-01</th>\n",
       "      <td>235.51</td>\n",
       "    </tr>\n",
       "    <tr>\n",
       "      <th>2015-06-01</th>\n",
       "      <td>238.69</td>\n",
       "    </tr>\n",
       "    <tr>\n",
       "      <th>2015-07-01</th>\n",
       "      <td>243.56</td>\n",
       "    </tr>\n",
       "    <tr>\n",
       "      <th>2015-08-01</th>\n",
       "      <td>248.02</td>\n",
       "    </tr>\n",
       "    <tr>\n",
       "      <th>2015-09-01</th>\n",
       "      <td>252.13</td>\n",
       "    </tr>\n",
       "    <tr>\n",
       "      <th>2015-10-01</th>\n",
       "      <td>256.42</td>\n",
       "    </tr>\n",
       "    <tr>\n",
       "      <th>2015-11-01</th>\n",
       "      <td>261.43</td>\n",
       "    </tr>\n",
       "    <tr>\n",
       "      <th>2015-12-01</th>\n",
       "      <td>271.67</td>\n",
       "    </tr>\n",
       "    <tr>\n",
       "      <th>2016-01-01</th>\n",
       "      <td>282.91</td>\n",
       "    </tr>\n",
       "    <tr>\n",
       "      <th>2016-02-01</th>\n",
       "      <td>294.14</td>\n",
       "    </tr>\n",
       "    <tr>\n",
       "      <th>2016-03-01</th>\n",
       "      <td>303.90</td>\n",
       "    </tr>\n",
       "    <tr>\n",
       "      <th>2016-04-01</th>\n",
       "      <td>323.79</td>\n",
       "    </tr>\n",
       "    <tr>\n",
       "      <th>2016-05-01</th>\n",
       "      <td>340.09</td>\n",
       "    </tr>\n",
       "    <tr>\n",
       "      <th>2016-06-01</th>\n",
       "      <td>351.05</td>\n",
       "    </tr>\n",
       "    <tr>\n",
       "      <th>2016-07-01</th>\n",
       "      <td>358.62</td>\n",
       "    </tr>\n",
       "    <tr>\n",
       "      <th>2016-08-01</th>\n",
       "      <td>355.90</td>\n",
       "    </tr>\n",
       "    <tr>\n",
       "      <th>2016-09-01</th>\n",
       "      <td>360.68</td>\n",
       "    </tr>\n",
       "    <tr>\n",
       "      <th>2016-10-01</th>\n",
       "      <td>371.14</td>\n",
       "    </tr>\n",
       "    <tr>\n",
       "      <th>2016-11-01</th>\n",
       "      <td>378.49</td>\n",
       "    </tr>\n",
       "    <tr>\n",
       "      <th>2016-12-01</th>\n",
       "      <td>383.19</td>\n",
       "    </tr>\n",
       "  </tbody>\n",
       "</table>\n",
       "</div>"
      ],
      "text/plain": [
       "               nivel_general\n",
       "indice_tiempo               \n",
       "2013-12-01            155.06\n",
       "2014-01-01            162.50\n",
       "2014-02-01            169.61\n",
       "2014-03-01            175.80\n",
       "2014-04-01            181.29\n",
       "2014-05-01            185.81\n",
       "2014-06-01            190.15\n",
       "2014-07-01            194.38\n",
       "2014-08-01            198.80\n",
       "2014-09-01            203.27\n",
       "2014-10-01            207.19\n",
       "2014-11-01            210.97\n",
       "2014-12-01            214.04\n",
       "2015-01-01            218.23\n",
       "2015-02-01            221.40\n",
       "2015-03-01            225.08\n",
       "2015-04-01            230.41\n",
       "2015-05-01            235.51\n",
       "2015-06-01            238.69\n",
       "2015-07-01            243.56\n",
       "2015-08-01            248.02\n",
       "2015-09-01            252.13\n",
       "2015-10-01            256.42\n",
       "2015-11-01            261.43\n",
       "2015-12-01            271.67\n",
       "2016-01-01            282.91\n",
       "2016-02-01            294.14\n",
       "2016-03-01            303.90\n",
       "2016-04-01            323.79\n",
       "2016-05-01            340.09\n",
       "2016-06-01            351.05\n",
       "2016-07-01            358.62\n",
       "2016-08-01            355.90\n",
       "2016-09-01            360.68\n",
       "2016-10-01            371.14\n",
       "2016-11-01            378.49\n",
       "2016-12-01            383.19"
      ]
     },
     "execution_count": 388,
     "metadata": {},
     "output_type": "execute_result"
    }
   ],
   "source": [
    "ipc_caba_13_16 = ipc_caba_base_jul12_ng.loc[\"2013-12-01\":\"2016-12-01\"] #alias\n",
    "ipc_caba_13_16"
   ]
  },
  {
   "cell_type": "code",
   "execution_count": 389,
   "metadata": {},
   "outputs": [
    {
     "name": "stdout",
     "output_type": "stream",
     "text": [
      "\n",
      "base caba julio 2012:   155.06\n",
      "base indec abril 2008:  166.84\n",
      "coeficiente de empalme: 0.9293934308319348\n",
      "\n"
     ]
    }
   ],
   "source": [
    "base_indec = ipc_indec_06_13.loc[\"2013-12-01\"].at[\"nivel_general\"]\n",
    "base_caba = ipc_caba_13_16.loc[\"2013-12-01\"].at[\"nivel_general\"]\n",
    "coeficiente_empalme = base_caba/base_indec\n",
    "print(f\"\"\"\n",
    "base caba julio 2012:   {base_caba}\n",
    "base indec abril 2008:  {base_indec}\n",
    "coeficiente de empalme: {coeficiente_empalme}\n",
    "\"\"\")"
   ]
  },
  {
   "cell_type": "markdown",
   "metadata": {},
   "source": [
    "se aplica el coeficiente de empalme multiplicandolo con la serie enero 2006 -> diciembre 2013 IPC Indec base abril 2008"
   ]
  },
  {
   "cell_type": "code",
   "execution_count": 390,
   "metadata": {},
   "outputs": [],
   "source": [
    "tmp = ipc_indec_06_13.apply(lambda x: x * coeficiente_empalme)"
   ]
  },
  {
   "cell_type": "markdown",
   "metadata": {},
   "source": [
    "* muestra de la serie homologada"
   ]
  },
  {
   "cell_type": "code",
   "execution_count": 391,
   "metadata": {},
   "outputs": [
    {
     "data": {
      "text/html": [
       "<div>\n",
       "<style scoped>\n",
       "    .dataframe tbody tr th:only-of-type {\n",
       "        vertical-align: middle;\n",
       "    }\n",
       "\n",
       "    .dataframe tbody tr th {\n",
       "        vertical-align: top;\n",
       "    }\n",
       "\n",
       "    .dataframe thead th {\n",
       "        text-align: right;\n",
       "    }\n",
       "</style>\n",
       "<table border=\"1\" class=\"dataframe\">\n",
       "  <thead>\n",
       "    <tr style=\"text-align: right;\">\n",
       "      <th></th>\n",
       "      <th>nivel_general</th>\n",
       "    </tr>\n",
       "    <tr>\n",
       "      <th>indice_tiempo</th>\n",
       "      <th></th>\n",
       "    </tr>\n",
       "  </thead>\n",
       "  <tbody>\n",
       "    <tr>\n",
       "      <th>2006-12-01</th>\n",
       "      <td>82.864718</td>\n",
       "    </tr>\n",
       "    <tr>\n",
       "      <th>2007-01-01</th>\n",
       "      <td>83.812700</td>\n",
       "    </tr>\n",
       "    <tr>\n",
       "      <th>2007-02-01</th>\n",
       "      <td>84.063636</td>\n",
       "    </tr>\n",
       "    <tr>\n",
       "      <th>2007-03-01</th>\n",
       "      <td>84.704917</td>\n",
       "    </tr>\n",
       "    <tr>\n",
       "      <th>2007-04-01</th>\n",
       "      <td>85.336905</td>\n",
       "    </tr>\n",
       "    <tr>\n",
       "      <th>...</th>\n",
       "      <td>...</td>\n",
       "    </tr>\n",
       "    <tr>\n",
       "      <th>2013-08-01</th>\n",
       "      <td>148.916709</td>\n",
       "    </tr>\n",
       "    <tr>\n",
       "      <th>2013-09-01</th>\n",
       "      <td>150.152803</td>\n",
       "    </tr>\n",
       "    <tr>\n",
       "      <th>2013-10-01</th>\n",
       "      <td>151.491129</td>\n",
       "    </tr>\n",
       "    <tr>\n",
       "      <th>2013-11-01</th>\n",
       "      <td>152.894513</td>\n",
       "    </tr>\n",
       "    <tr>\n",
       "      <th>2013-12-01</th>\n",
       "      <td>155.060000</td>\n",
       "    </tr>\n",
       "  </tbody>\n",
       "</table>\n",
       "<p>85 rows × 1 columns</p>\n",
       "</div>"
      ],
      "text/plain": [
       "               nivel_general\n",
       "indice_tiempo               \n",
       "2006-12-01         82.864718\n",
       "2007-01-01         83.812700\n",
       "2007-02-01         84.063636\n",
       "2007-03-01         84.704917\n",
       "2007-04-01         85.336905\n",
       "...                      ...\n",
       "2013-08-01        148.916709\n",
       "2013-09-01        150.152803\n",
       "2013-10-01        151.491129\n",
       "2013-11-01        152.894513\n",
       "2013-12-01        155.060000\n",
       "\n",
       "[85 rows x 1 columns]"
      ]
     },
     "execution_count": 391,
     "metadata": {},
     "output_type": "execute_result"
    }
   ],
   "source": [
    "tmp"
   ]
  },
  {
   "cell_type": "markdown",
   "metadata": {},
   "source": [
    "Se concatenan ambas series."
   ]
  },
  {
   "cell_type": "code",
   "execution_count": 392,
   "metadata": {},
   "outputs": [],
   "source": [
    "ipc_06_to_16_base_CABAjul12 = pd.concat([tmp, ipc_caba_13_16]).drop_duplicates()\n"
   ]
  },
  {
   "cell_type": "markdown",
   "metadata": {},
   "source": [
    "* muestra de la serie resultado ***enero 2006 -> diciembre 2016 IPC Caba base julio 2012***"
   ]
  },
  {
   "cell_type": "code",
   "execution_count": 393,
   "metadata": {},
   "outputs": [
    {
     "data": {
      "text/html": [
       "<div>\n",
       "<style scoped>\n",
       "    .dataframe tbody tr th:only-of-type {\n",
       "        vertical-align: middle;\n",
       "    }\n",
       "\n",
       "    .dataframe tbody tr th {\n",
       "        vertical-align: top;\n",
       "    }\n",
       "\n",
       "    .dataframe thead th {\n",
       "        text-align: right;\n",
       "    }\n",
       "</style>\n",
       "<table border=\"1\" class=\"dataframe\">\n",
       "  <thead>\n",
       "    <tr style=\"text-align: right;\">\n",
       "      <th></th>\n",
       "      <th>nivel_general</th>\n",
       "    </tr>\n",
       "    <tr>\n",
       "      <th>indice_tiempo</th>\n",
       "      <th></th>\n",
       "    </tr>\n",
       "  </thead>\n",
       "  <tbody>\n",
       "    <tr>\n",
       "      <th>2006-12-01</th>\n",
       "      <td>82.864718</td>\n",
       "    </tr>\n",
       "    <tr>\n",
       "      <th>2007-01-01</th>\n",
       "      <td>83.812700</td>\n",
       "    </tr>\n",
       "    <tr>\n",
       "      <th>2007-02-01</th>\n",
       "      <td>84.063636</td>\n",
       "    </tr>\n",
       "    <tr>\n",
       "      <th>2007-03-01</th>\n",
       "      <td>84.704917</td>\n",
       "    </tr>\n",
       "    <tr>\n",
       "      <th>2007-04-01</th>\n",
       "      <td>85.336905</td>\n",
       "    </tr>\n",
       "    <tr>\n",
       "      <th>...</th>\n",
       "      <td>...</td>\n",
       "    </tr>\n",
       "    <tr>\n",
       "      <th>2016-08-01</th>\n",
       "      <td>355.900000</td>\n",
       "    </tr>\n",
       "    <tr>\n",
       "      <th>2016-09-01</th>\n",
       "      <td>360.680000</td>\n",
       "    </tr>\n",
       "    <tr>\n",
       "      <th>2016-10-01</th>\n",
       "      <td>371.140000</td>\n",
       "    </tr>\n",
       "    <tr>\n",
       "      <th>2016-11-01</th>\n",
       "      <td>378.490000</td>\n",
       "    </tr>\n",
       "    <tr>\n",
       "      <th>2016-12-01</th>\n",
       "      <td>383.190000</td>\n",
       "    </tr>\n",
       "  </tbody>\n",
       "</table>\n",
       "<p>121 rows × 1 columns</p>\n",
       "</div>"
      ],
      "text/plain": [
       "               nivel_general\n",
       "indice_tiempo               \n",
       "2006-12-01         82.864718\n",
       "2007-01-01         83.812700\n",
       "2007-02-01         84.063636\n",
       "2007-03-01         84.704917\n",
       "2007-04-01         85.336905\n",
       "...                      ...\n",
       "2016-08-01        355.900000\n",
       "2016-09-01        360.680000\n",
       "2016-10-01        371.140000\n",
       "2016-11-01        378.490000\n",
       "2016-12-01        383.190000\n",
       "\n",
       "[121 rows x 1 columns]"
      ]
     },
     "execution_count": 393,
     "metadata": {},
     "output_type": "execute_result"
    }
   ],
   "source": [
    "ipc_06_to_16_base_CABAjul12"
   ]
  },
  {
   "cell_type": "markdown",
   "metadata": {},
   "source": [
    "* gráfico de la serie resultado ***enero 2006 -> diciembre 2016 IPC Caba base julio 2012***"
   ]
  },
  {
   "cell_type": "code",
   "execution_count": 394,
   "metadata": {},
   "outputs": [
    {
     "data": {
      "text/plain": [
       "<AxesSubplot:xlabel='indice_tiempo'>"
      ]
     },
     "execution_count": 394,
     "metadata": {},
     "output_type": "execute_result"
    },
    {
     "data": {
      "image/png": "[encoded data removed]",
      "text/plain": [
       "<Figure size 1008x576 with 1 Axes>"
      ]
     },
     "metadata": {
      "needs_background": "light"
     },
     "output_type": "display_data"
    }
   ],
   "source": [
    "ipc_06_to_16_base_CABAjul12.plot(figsize=(14, 8))"
   ]
  },
  {
   "cell_type": "markdown",
   "metadata": {},
   "source": [
    "#### Homologación 2006 -> 2021"
   ]
  },
  {
   "cell_type": "markdown",
   "metadata": {},
   "source": [
    "Se empalma la serie diciembre 2016 -> diciembre 2021 IPC INDEC base diciembre 2016 con la serie enero 2006 -> diciembre 2016 IPC CABA base julio 2012. Obteniendo así una nueva serie: enero 2006 -> diciembre 2021 IPC INDEC base diciembre 2016."
   ]
  },
  {
   "cell_type": "markdown",
   "metadata": {},
   "source": [
    "* muestra de la serie enero 2006 -> diciembre 2016 IPC CABA base julio 2012"
   ]
  },
  {
   "cell_type": "code",
   "execution_count": 395,
   "metadata": {},
   "outputs": [
    {
     "data": {
      "text/html": [
       "<div>\n",
       "<style scoped>\n",
       "    .dataframe tbody tr th:only-of-type {\n",
       "        vertical-align: middle;\n",
       "    }\n",
       "\n",
       "    .dataframe tbody tr th {\n",
       "        vertical-align: top;\n",
       "    }\n",
       "\n",
       "    .dataframe thead th {\n",
       "        text-align: right;\n",
       "    }\n",
       "</style>\n",
       "<table border=\"1\" class=\"dataframe\">\n",
       "  <thead>\n",
       "    <tr style=\"text-align: right;\">\n",
       "      <th></th>\n",
       "      <th>nivel_general</th>\n",
       "    </tr>\n",
       "    <tr>\n",
       "      <th>indice_tiempo</th>\n",
       "      <th></th>\n",
       "    </tr>\n",
       "  </thead>\n",
       "  <tbody>\n",
       "    <tr>\n",
       "      <th>2006-12-01</th>\n",
       "      <td>82.864718</td>\n",
       "    </tr>\n",
       "    <tr>\n",
       "      <th>2007-01-01</th>\n",
       "      <td>83.812700</td>\n",
       "    </tr>\n",
       "    <tr>\n",
       "      <th>2007-02-01</th>\n",
       "      <td>84.063636</td>\n",
       "    </tr>\n",
       "    <tr>\n",
       "      <th>2007-03-01</th>\n",
       "      <td>84.704917</td>\n",
       "    </tr>\n",
       "    <tr>\n",
       "      <th>2007-04-01</th>\n",
       "      <td>85.336905</td>\n",
       "    </tr>\n",
       "    <tr>\n",
       "      <th>...</th>\n",
       "      <td>...</td>\n",
       "    </tr>\n",
       "    <tr>\n",
       "      <th>2016-08-01</th>\n",
       "      <td>355.900000</td>\n",
       "    </tr>\n",
       "    <tr>\n",
       "      <th>2016-09-01</th>\n",
       "      <td>360.680000</td>\n",
       "    </tr>\n",
       "    <tr>\n",
       "      <th>2016-10-01</th>\n",
       "      <td>371.140000</td>\n",
       "    </tr>\n",
       "    <tr>\n",
       "      <th>2016-11-01</th>\n",
       "      <td>378.490000</td>\n",
       "    </tr>\n",
       "    <tr>\n",
       "      <th>2016-12-01</th>\n",
       "      <td>383.190000</td>\n",
       "    </tr>\n",
       "  </tbody>\n",
       "</table>\n",
       "<p>121 rows × 1 columns</p>\n",
       "</div>"
      ],
      "text/plain": [
       "               nivel_general\n",
       "indice_tiempo               \n",
       "2006-12-01         82.864718\n",
       "2007-01-01         83.812700\n",
       "2007-02-01         84.063636\n",
       "2007-03-01         84.704917\n",
       "2007-04-01         85.336905\n",
       "...                      ...\n",
       "2016-08-01        355.900000\n",
       "2016-09-01        360.680000\n",
       "2016-10-01        371.140000\n",
       "2016-11-01        378.490000\n",
       "2016-12-01        383.190000\n",
       "\n",
       "[121 rows x 1 columns]"
      ]
     },
     "execution_count": 395,
     "metadata": {},
     "output_type": "execute_result"
    }
   ],
   "source": [
    "ipc_06_to_16_base_CABAjul12"
   ]
  },
  {
   "cell_type": "markdown",
   "metadata": {},
   "source": [
    "se calcula el coeficiente de empalme"
   ]
  },
  {
   "cell_type": "code",
   "execution_count": 396,
   "metadata": {},
   "outputs": [
    {
     "name": "stdout",
     "output_type": "stream",
     "text": [
      "\n",
      "IPC Caba base julio 2012:       383.19\n",
      "IPC Indec base diciembre 2016:  100.0\n",
      "coeficiente de empalme:         0.2609671442365406\n",
      "\n"
     ]
    }
   ],
   "source": [
    "base_caba = ipc_06_to_16_base_CABAjul12.loc[\"2016-12-01\"].at[\"nivel_general\"]\n",
    "base_indec = ipc_base_dic16_ng.loc[\"2016-12-01\"].at[\"nivel_general\"]\n",
    "coeficiente_empalme = base_indec / base_caba\n",
    "\n",
    "print(f\"\"\"\n",
    "IPC Caba base julio 2012:       {base_caba}\n",
    "IPC Indec base diciembre 2016:  {base_indec}\n",
    "coeficiente de empalme:         {coeficiente_empalme}\n",
    "\"\"\")"
   ]
  },
  {
   "cell_type": "markdown",
   "metadata": {},
   "source": [
    "Se aplica el coeficiente de empalme mutiplicándolo por cada valor en la serie enero 2006 -> diciembre 2016 IPC Caba base julio 2012"
   ]
  },
  {
   "cell_type": "code",
   "execution_count": 397,
   "metadata": {},
   "outputs": [],
   "source": [
    "tmp = ipc_06_to_16_base_CABAjul12.apply(lambda x : x * coeficiente_empalme)"
   ]
  },
  {
   "cell_type": "markdown",
   "metadata": {},
   "source": [
    "* muestra de la serie homologada:"
   ]
  },
  {
   "cell_type": "code",
   "execution_count": 398,
   "metadata": {},
   "outputs": [
    {
     "data": {
      "text/html": [
       "<div>\n",
       "<style scoped>\n",
       "    .dataframe tbody tr th:only-of-type {\n",
       "        vertical-align: middle;\n",
       "    }\n",
       "\n",
       "    .dataframe tbody tr th {\n",
       "        vertical-align: top;\n",
       "    }\n",
       "\n",
       "    .dataframe thead th {\n",
       "        text-align: right;\n",
       "    }\n",
       "</style>\n",
       "<table border=\"1\" class=\"dataframe\">\n",
       "  <thead>\n",
       "    <tr style=\"text-align: right;\">\n",
       "      <th></th>\n",
       "      <th>nivel_general</th>\n",
       "    </tr>\n",
       "    <tr>\n",
       "      <th>indice_tiempo</th>\n",
       "      <th></th>\n",
       "    </tr>\n",
       "  </thead>\n",
       "  <tbody>\n",
       "    <tr>\n",
       "      <th>2006-12-01</th>\n",
       "      <td>21.624969</td>\n",
       "    </tr>\n",
       "    <tr>\n",
       "      <th>2007-01-01</th>\n",
       "      <td>21.872361</td>\n",
       "    </tr>\n",
       "    <tr>\n",
       "      <th>2007-02-01</th>\n",
       "      <td>21.937847</td>\n",
       "    </tr>\n",
       "    <tr>\n",
       "      <th>2007-03-01</th>\n",
       "      <td>22.105200</td>\n",
       "    </tr>\n",
       "    <tr>\n",
       "      <th>2007-04-01</th>\n",
       "      <td>22.270128</td>\n",
       "    </tr>\n",
       "    <tr>\n",
       "      <th>...</th>\n",
       "      <td>...</td>\n",
       "    </tr>\n",
       "    <tr>\n",
       "      <th>2016-08-01</th>\n",
       "      <td>92.878207</td>\n",
       "    </tr>\n",
       "    <tr>\n",
       "      <th>2016-09-01</th>\n",
       "      <td>94.125630</td>\n",
       "    </tr>\n",
       "    <tr>\n",
       "      <th>2016-10-01</th>\n",
       "      <td>96.855346</td>\n",
       "    </tr>\n",
       "    <tr>\n",
       "      <th>2016-11-01</th>\n",
       "      <td>98.773454</td>\n",
       "    </tr>\n",
       "    <tr>\n",
       "      <th>2016-12-01</th>\n",
       "      <td>100.000000</td>\n",
       "    </tr>\n",
       "  </tbody>\n",
       "</table>\n",
       "<p>121 rows × 1 columns</p>\n",
       "</div>"
      ],
      "text/plain": [
       "               nivel_general\n",
       "indice_tiempo               \n",
       "2006-12-01         21.624969\n",
       "2007-01-01         21.872361\n",
       "2007-02-01         21.937847\n",
       "2007-03-01         22.105200\n",
       "2007-04-01         22.270128\n",
       "...                      ...\n",
       "2016-08-01         92.878207\n",
       "2016-09-01         94.125630\n",
       "2016-10-01         96.855346\n",
       "2016-11-01         98.773454\n",
       "2016-12-01        100.000000\n",
       "\n",
       "[121 rows x 1 columns]"
      ]
     },
     "execution_count": 398,
     "metadata": {},
     "output_type": "execute_result"
    }
   ],
   "source": [
    "tmp"
   ]
  },
  {
   "cell_type": "markdown",
   "metadata": {},
   "source": [
    "Se empalma la tabla homologada con la serie diciembre 2016 -> diciembre 2021 IPC INDEC base diciembre 2016"
   ]
  },
  {
   "cell_type": "code",
   "execution_count": 399,
   "metadata": {},
   "outputs": [],
   "source": [
    "ipc_06_to_21_base_INDECdic16_II = pd.concat([tmp, ipc_base_dic16_ng]).drop_duplicates()"
   ]
  },
  {
   "cell_type": "markdown",
   "metadata": {},
   "source": [
    "* muestra de la serie resultado ***enero 2006 -> diciembre 2021 IPC INDEC base diciembre 2016***"
   ]
  },
  {
   "cell_type": "code",
   "execution_count": 400,
   "metadata": {},
   "outputs": [
    {
     "data": {
      "text/html": [
       "<div>\n",
       "<style scoped>\n",
       "    .dataframe tbody tr th:only-of-type {\n",
       "        vertical-align: middle;\n",
       "    }\n",
       "\n",
       "    .dataframe tbody tr th {\n",
       "        vertical-align: top;\n",
       "    }\n",
       "\n",
       "    .dataframe thead th {\n",
       "        text-align: right;\n",
       "    }\n",
       "</style>\n",
       "<table border=\"1\" class=\"dataframe\">\n",
       "  <thead>\n",
       "    <tr style=\"text-align: right;\">\n",
       "      <th></th>\n",
       "      <th>nivel_general</th>\n",
       "    </tr>\n",
       "    <tr>\n",
       "      <th>indice_tiempo</th>\n",
       "      <th></th>\n",
       "    </tr>\n",
       "  </thead>\n",
       "  <tbody>\n",
       "    <tr>\n",
       "      <th>2006-12-01</th>\n",
       "      <td>21.624969</td>\n",
       "    </tr>\n",
       "    <tr>\n",
       "      <th>2007-01-01</th>\n",
       "      <td>21.872361</td>\n",
       "    </tr>\n",
       "    <tr>\n",
       "      <th>2007-02-01</th>\n",
       "      <td>21.937847</td>\n",
       "    </tr>\n",
       "    <tr>\n",
       "      <th>2007-03-01</th>\n",
       "      <td>22.105200</td>\n",
       "    </tr>\n",
       "    <tr>\n",
       "      <th>2007-04-01</th>\n",
       "      <td>22.270128</td>\n",
       "    </tr>\n",
       "    <tr>\n",
       "      <th>...</th>\n",
       "      <td>...</td>\n",
       "    </tr>\n",
       "    <tr>\n",
       "      <th>2021-08-01</th>\n",
       "      <td>510.394200</td>\n",
       "    </tr>\n",
       "    <tr>\n",
       "      <th>2021-09-01</th>\n",
       "      <td>528.496800</td>\n",
       "    </tr>\n",
       "    <tr>\n",
       "      <th>2021-10-01</th>\n",
       "      <td>547.080200</td>\n",
       "    </tr>\n",
       "    <tr>\n",
       "      <th>2021-11-01</th>\n",
       "      <td>560.918400</td>\n",
       "    </tr>\n",
       "    <tr>\n",
       "      <th>2021-12-01</th>\n",
       "      <td>582.457500</td>\n",
       "    </tr>\n",
       "  </tbody>\n",
       "</table>\n",
       "<p>181 rows × 1 columns</p>\n",
       "</div>"
      ],
      "text/plain": [
       "               nivel_general\n",
       "indice_tiempo               \n",
       "2006-12-01         21.624969\n",
       "2007-01-01         21.872361\n",
       "2007-02-01         21.937847\n",
       "2007-03-01         22.105200\n",
       "2007-04-01         22.270128\n",
       "...                      ...\n",
       "2021-08-01        510.394200\n",
       "2021-09-01        528.496800\n",
       "2021-10-01        547.080200\n",
       "2021-11-01        560.918400\n",
       "2021-12-01        582.457500\n",
       "\n",
       "[181 rows x 1 columns]"
      ]
     },
     "execution_count": 400,
     "metadata": {},
     "output_type": "execute_result"
    }
   ],
   "source": [
    "ipc_06_to_21_base_INDECdic16_II"
   ]
  },
  {
   "cell_type": "markdown",
   "metadata": {},
   "source": [
    "* gráfico de la serie resultado ***enero 2006 -> diciembre 2021 IPC INDEC base diciembre 2016***"
   ]
  },
  {
   "cell_type": "code",
   "execution_count": 401,
   "metadata": {},
   "outputs": [
    {
     "data": {
      "text/plain": [
       "<AxesSubplot:xlabel='indice_tiempo'>"
      ]
     },
     "execution_count": 401,
     "metadata": {},
     "output_type": "execute_result"
    },
    {
     "data": {
      "image/png": "[encoded data removed]",
      "text/plain": [
       "<Figure size 1008x576 with 1 Axes>"
      ]
     },
     "metadata": {
      "needs_background": "light"
     },
     "output_type": "display_data"
    }
   ],
   "source": [
    "ipc_06_to_21_base_INDECdic16_II.plot(figsize=(14,8))"
   ]
  },
  {
   "cell_type": "code",
   "execution_count": 402,
   "metadata": {},
   "outputs": [],
   "source": [
    "ipc_06_to_21_base_INDECdic16_II.to_csv(\"./data/IPC_H/ipc_enero2006_dic2021_homologacion_base_indec_dic2016_II.csv\")"
   ]
  },
  {
   "cell_type": "markdown",
   "metadata": {},
   "source": [
    "## Comparación \"Empalme de datos I\" y \"Empalme de datos II\""
   ]
  },
  {
   "cell_type": "code",
   "execution_count": 403,
   "metadata": {},
   "outputs": [],
   "source": [
    "empalme_I = ipc_06_to_21_base_INDECdic16_I\n",
    "empalme_II = ipc_06_to_21_base_INDECdic16_II\n",
    "ng_I = empalme_I[\"nivel_general\"]\n",
    "ng_I.name = \"nivel_general_I\"\n",
    "ng_II = empalme_II[\"nivel_general\"]\n",
    "ng_II.name = \"nivel_general_II\""
   ]
  },
  {
   "cell_type": "markdown",
   "metadata": {},
   "source": [
    "¿Tienen los mismos valores en el índice?"
   ]
  },
  {
   "cell_type": "code",
   "execution_count": 404,
   "metadata": {},
   "outputs": [
    {
     "data": {
      "text/plain": [
       "True"
      ]
     },
     "execution_count": 404,
     "metadata": {},
     "output_type": "execute_result"
    }
   ],
   "source": [
    "pd.Index.equals(ng_I.index, ng_II.index)"
   ]
  },
  {
   "cell_type": "markdown",
   "metadata": {},
   "source": [
    "*Tabla comparativa entre ambas series*"
   ]
  },
  {
   "cell_type": "code",
   "execution_count": 405,
   "metadata": {},
   "outputs": [
    {
     "data": {
      "text/html": [
       "<div>\n",
       "<style scoped>\n",
       "    .dataframe tbody tr th:only-of-type {\n",
       "        vertical-align: middle;\n",
       "    }\n",
       "\n",
       "    .dataframe tbody tr th {\n",
       "        vertical-align: top;\n",
       "    }\n",
       "\n",
       "    .dataframe thead th {\n",
       "        text-align: right;\n",
       "    }\n",
       "</style>\n",
       "<table border=\"1\" class=\"dataframe\">\n",
       "  <thead>\n",
       "    <tr style=\"text-align: right;\">\n",
       "      <th></th>\n",
       "      <th>nivel_general_I</th>\n",
       "      <th>nivel_general_II</th>\n",
       "    </tr>\n",
       "    <tr>\n",
       "      <th>indice_tiempo</th>\n",
       "      <th></th>\n",
       "      <th></th>\n",
       "    </tr>\n",
       "  </thead>\n",
       "  <tbody>\n",
       "    <tr>\n",
       "      <th>2006-12-01</th>\n",
       "      <td>25.798812</td>\n",
       "      <td>21.624969</td>\n",
       "    </tr>\n",
       "    <tr>\n",
       "      <th>2007-01-01</th>\n",
       "      <td>26.093953</td>\n",
       "      <td>21.872361</td>\n",
       "    </tr>\n",
       "    <tr>\n",
       "      <th>2007-02-01</th>\n",
       "      <td>26.172078</td>\n",
       "      <td>21.937847</td>\n",
       "    </tr>\n",
       "    <tr>\n",
       "      <th>2007-03-01</th>\n",
       "      <td>26.371733</td>\n",
       "      <td>22.105200</td>\n",
       "    </tr>\n",
       "    <tr>\n",
       "      <th>2007-04-01</th>\n",
       "      <td>26.568493</td>\n",
       "      <td>22.270128</td>\n",
       "    </tr>\n",
       "    <tr>\n",
       "      <th>...</th>\n",
       "      <td>...</td>\n",
       "      <td>...</td>\n",
       "    </tr>\n",
       "    <tr>\n",
       "      <th>2021-08-01</th>\n",
       "      <td>510.394200</td>\n",
       "      <td>510.394200</td>\n",
       "    </tr>\n",
       "    <tr>\n",
       "      <th>2021-09-01</th>\n",
       "      <td>528.496800</td>\n",
       "      <td>528.496800</td>\n",
       "    </tr>\n",
       "    <tr>\n",
       "      <th>2021-10-01</th>\n",
       "      <td>547.080200</td>\n",
       "      <td>547.080200</td>\n",
       "    </tr>\n",
       "    <tr>\n",
       "      <th>2021-11-01</th>\n",
       "      <td>560.918400</td>\n",
       "      <td>560.918400</td>\n",
       "    </tr>\n",
       "    <tr>\n",
       "      <th>2021-12-01</th>\n",
       "      <td>582.457500</td>\n",
       "      <td>582.457500</td>\n",
       "    </tr>\n",
       "  </tbody>\n",
       "</table>\n",
       "<p>181 rows × 2 columns</p>\n",
       "</div>"
      ],
      "text/plain": [
       "               nivel_general_I  nivel_general_II\n",
       "indice_tiempo                                   \n",
       "2006-12-01           25.798812         21.624969\n",
       "2007-01-01           26.093953         21.872361\n",
       "2007-02-01           26.172078         21.937847\n",
       "2007-03-01           26.371733         22.105200\n",
       "2007-04-01           26.568493         22.270128\n",
       "...                        ...               ...\n",
       "2021-08-01          510.394200        510.394200\n",
       "2021-09-01          528.496800        528.496800\n",
       "2021-10-01          547.080200        547.080200\n",
       "2021-11-01          560.918400        560.918400\n",
       "2021-12-01          582.457500        582.457500\n",
       "\n",
       "[181 rows x 2 columns]"
      ]
     },
     "execution_count": 405,
     "metadata": {},
     "output_type": "execute_result"
    }
   ],
   "source": [
    "ng_comparación = pd.concat([ng_I, ng_II], axis=1)\n",
    "ng_comparación"
   ]
  },
  {
   "cell_type": "markdown",
   "metadata": {},
   "source": [
    "*Gráfico comparativo entre ambas series*"
   ]
  },
  {
   "cell_type": "code",
   "execution_count": 406,
   "metadata": {},
   "outputs": [
    {
     "data": {
      "text/plain": [
       "<AxesSubplot:xlabel='indice_tiempo'>"
      ]
     },
     "execution_count": 406,
     "metadata": {},
     "output_type": "execute_result"
    },
    {
     "data": {
      "image/png": "[encoded data removed]",
      "text/plain": [
       "<Figure size 1008x576 with 1 Axes>"
      ]
     },
     "metadata": {
      "needs_background": "light"
     },
     "output_type": "display_data"
    }
   ],
   "source": [
    "ng_comparación.plot(figsize=(14, 8))"
   ]
  },
  {
   "cell_type": "markdown",
   "metadata": {},
   "source": [
    "En el siguiente grafico se comparan lado a lado ambas metodologías de empalme, se puede obseravar una diferencia en la variación del IPC entre diciembre 2006 y diciembre 2015"
   ]
  },
  {
   "cell_type": "markdown",
   "metadata": {},
   "source": [
    "*Mismo gráfico, período diciembre 2012 - diciembre 2015.*"
   ]
  },
  {
   "cell_type": "code",
   "execution_count": 407,
   "metadata": {},
   "outputs": [
    {
     "data": {
      "text/plain": [
       "<AxesSubplot:xlabel='indice_tiempo'>"
      ]
     },
     "execution_count": 407,
     "metadata": {},
     "output_type": "execute_result"
    },
    {
     "data": {
      "image/png": "[encoded data removed]",
      "text/plain": [
       "<Figure size 1008x576 with 1 Axes>"
      ]
     },
     "metadata": {
      "needs_background": "light"
     },
     "output_type": "display_data"
    }
   ],
   "source": [
    "ng_comparación.loc[\"2006-12-01\":\"2015-12-01\"].plot(figsize=(14, 8))"
   ]
  },
  {
   "cell_type": "markdown",
   "metadata": {},
   "source": [
    "*Mismo gráfico, período noviembre 2013 - diciembre 2015*"
   ]
  },
  {
   "cell_type": "code",
   "execution_count": 408,
   "metadata": {},
   "outputs": [
    {
     "data": {
      "text/plain": [
       "<AxesSubplot:xlabel='indice_tiempo'>"
      ]
     },
     "execution_count": 408,
     "metadata": {},
     "output_type": "execute_result"
    },
    {
     "data": {
      "image/png": "[encoded data removed]",
      "text/plain": [
       "<Figure size 1008x576 with 1 Axes>"
      ]
     },
     "metadata": {
      "needs_background": "light"
     },
     "output_type": "display_data"
    }
   ],
   "source": [
    "\n",
    "ng_comparación.loc[\"2013-11-01\":\"2015-12-01\"].plot(figsize=(14, 8))"
   ]
  },
  {
   "cell_type": "markdown",
   "metadata": {},
   "source": [
    "Nótese que ambas curvas convergen en una misma cuando se homologan los datos junto al IPC CABA base julio 2012, y sigue de forma pareja junto con la homologación de los datos que comienzan en diciembre 2016, es decir con el IPC INDEC con base en el mismo mes y año (diciembre 2016)."
   ]
  },
  {
   "cell_type": "markdown",
   "metadata": {},
   "source": [
    "*variación del IPC en \"Empalme I\" a lo largo del tiempo*"
   ]
  },
  {
   "cell_type": "code",
   "execution_count": 409,
   "metadata": {},
   "outputs": [
    {
     "data": {
      "text/plain": [
       "<AxesSubplot:xlabel='indice_tiempo'>"
      ]
     },
     "execution_count": 409,
     "metadata": {},
     "output_type": "execute_result"
    },
    {
     "data": {
      "image/png": "[encoded data removed]",
      "text/plain": [
       "<Figure size 1008x360 with 1 Axes>"
      ]
     },
     "metadata": {
      "needs_background": "light"
     },
     "output_type": "display_data"
    }
   ],
   "source": [
    "ng_I.diff().plot(figsize=(14,5))"
   ]
  },
  {
   "cell_type": "markdown",
   "metadata": {},
   "source": [
    "*variacion del IPC en \"Empalme II\" a lo largo del tiempo*"
   ]
  },
  {
   "cell_type": "code",
   "execution_count": 416,
   "metadata": {},
   "outputs": [
    {
     "data": {
      "text/plain": [
       "<AxesSubplot:xlabel='indice_tiempo'>"
      ]
     },
     "execution_count": 416,
     "metadata": {},
     "output_type": "execute_result"
    },
    {
     "data": {
      "image/png": "[encoded data removed]",
      "text/plain": [
       "<Figure size 1008x360 with 1 Axes>"
      ]
     },
     "metadata": {
      "needs_background": "light"
     },
     "output_type": "display_data"
    }
   ],
   "source": [
    "ng_II.diff().plot(figsize=(14,5))"
   ]
  },
  {
   "cell_type": "markdown",
   "metadata": {},
   "source": [
    "### Diferencia entre ambas series"
   ]
  },
  {
   "cell_type": "markdown",
   "metadata": {},
   "source": [
    "*Gráfico de la diferencia entre ambas series*"
   ]
  },
  {
   "cell_type": "code",
   "execution_count": 410,
   "metadata": {},
   "outputs": [
    {
     "data": {
      "text/plain": [
       "<AxesSubplot:xlabel='indice_tiempo'>"
      ]
     },
     "execution_count": 410,
     "metadata": {},
     "output_type": "execute_result"
    },
    {
     "data": {
      "image/png": "[encoded data removed]",
      "text/plain": [
       "<Figure size 1008x288 with 1 Axes>"
      ]
     },
     "metadata": {
      "needs_background": "light"
     },
     "output_type": "display_data"
    }
   ],
   "source": [
    "ng_diferencia = ng_I - ng_II\n",
    "ng_diferencia.plot(figsize=(14,4))"
   ]
  },
  {
   "cell_type": "markdown",
   "metadata": {},
   "source": [
    "*puntos clave del gráfico*"
   ]
  },
  {
   "cell_type": "code",
   "execution_count": 411,
   "metadata": {},
   "outputs": [
    {
     "data": {
      "text/plain": [
       "indice_tiempo\n",
       "2012-12-01    7.039731\n",
       "2013-12-01    7.810273\n",
       "2015-10-01    0.000000\n",
       "2021-12-01    0.000000\n",
       "dtype: float64"
      ]
     },
     "execution_count": 411,
     "metadata": {},
     "output_type": "execute_result"
    }
   ],
   "source": [
    "ng_diferencia.loc[[\"2012-12-01\", \"2013-12-01\", \"2015-10-01\", \"2021-12-01\"]]"
   ]
  },
  {
   "cell_type": "markdown",
   "metadata": {},
   "source": [
    "*diferencia entre diciembre 2013 y octubre 2015*"
   ]
  },
  {
   "cell_type": "code",
   "execution_count": 412,
   "metadata": {},
   "outputs": [
    {
     "data": {
      "text/plain": [
       "indice_tiempo\n",
       "2013-12-01    7.810273\n",
       "2014-01-01    7.630055\n",
       "2014-02-01    7.484289\n",
       "2014-03-01    7.212246\n",
       "2014-04-01    6.728332\n",
       "2014-05-01    6.323767\n",
       "2014-06-01    5.900417\n",
       "2014-07-01    5.590320\n",
       "2014-08-01    5.188367\n",
       "2014-09-01    4.806244\n",
       "2014-10-01    4.477489\n",
       "2014-11-01    4.150290\n",
       "2014-12-01    3.939815\n",
       "2015-01-01    3.521441\n",
       "2015-02-01    3.258499\n",
       "2015-03-01    3.105071\n",
       "2015-04-01    2.420839\n",
       "2015-05-01    1.733341\n",
       "2015-06-01    1.515256\n",
       "2015-07-01    1.093468\n",
       "2015-08-01    0.689019\n",
       "2015-09-01    0.386456\n",
       "2015-10-01    0.000000\n",
       "dtype: float64"
      ]
     },
     "execution_count": 412,
     "metadata": {},
     "output_type": "execute_result"
    }
   ],
   "source": [
    "ng_diferencia.loc[\"2013-12-01\":\"2015-10-1\"]"
   ]
  },
  {
   "cell_type": "markdown",
   "metadata": {},
   "source": [
    "*variación de la diferencia entre ambas metodologías a lo largo de la serie*"
   ]
  },
  {
   "cell_type": "code",
   "execution_count": 413,
   "metadata": {},
   "outputs": [
    {
     "data": {
      "text/plain": [
       "<AxesSubplot:xlabel='indice_tiempo'>"
      ]
     },
     "execution_count": 413,
     "metadata": {},
     "output_type": "execute_result"
    },
    {
     "data": {
      "image/png": "[encoded data removed]",
      "text/plain": [
       "<Figure size 1008x360 with 1 Axes>"
      ]
     },
     "metadata": {
      "needs_background": "light"
     },
     "output_type": "display_data"
    }
   ],
   "source": [
    "ng_diferencia_variacion = ng_diferencia.diff()\n",
    "ng_diferencia_variacion.plot(figsize=(14,5))"
   ]
  },
  {
   "cell_type": "markdown",
   "metadata": {},
   "source": [
    "La diferencia crece entre los periodos diciembre 2012 y diciembre 2013, fin de la serie IPC INDEC base abril 2008. Luego decrece abrúptamente, en el periódo diciembre 2013 y octubre 2015, correspondiente a la serie IPC INDEC base 'octubre 2013 - septiembre 2014'. Finalmente llega a cero a partir de octubr 2015, cuando se homologa junto a IPC CABA base julio 2012."
   ]
  },
  {
   "cell_type": "markdown",
   "metadata": {},
   "source": [
    "### Inflación acumulada diciembre 2006 - diciembre 2021"
   ]
  },
  {
   "cell_type": "markdown",
   "metadata": {},
   "source": [
    "*Empalme I*"
   ]
  },
  {
   "cell_type": "code",
   "execution_count": 414,
   "metadata": {},
   "outputs": [
    {
     "data": {
      "text/plain": [
       "2257.6912100383174"
      ]
     },
     "execution_count": 414,
     "metadata": {},
     "output_type": "execute_result"
    }
   ],
   "source": [
    "tmp = ng_I.loc[\"2006-12-01\"]\n",
    "tmp1 = ng_I.loc[\"2021-12-01\"]\n",
    "acc = (tmp1/tmp)*100\n",
    "acc"
   ]
  },
  {
   "cell_type": "markdown",
   "metadata": {},
   "source": [
    "*Empalme II*"
   ]
  },
  {
   "cell_type": "code",
   "execution_count": 415,
   "metadata": {},
   "outputs": [
    {
     "name": "stdout",
     "output_type": "stream",
     "text": [
      "2693.448961425126\n"
     ]
    }
   ],
   "source": [
    "tmp = ng_II.loc[\"2006-12-01\"]\n",
    "tmp1 = ng_II.loc[\"2021-12-01\"]\n",
    "acc = (tmp1/tmp)*100\n",
    "print(acc)"
   ]
  }
 ],
 "metadata": {
  "interpreter": {
   "hash": "7152278db559e2e9b098350b5a7167e31f17e15bf58f426d9d3d7293b63f9cd7"
  },
  "kernelspec": {
   "display_name": "Python 3.9.7 64-bit ('env': venv)",
   "language": "python",
   "name": "python3"
  },
  "language_info": {
   "codemirror_mode": {
    "name": "ipython",
    "version": 3
   },
   "file_extension": ".py",
   "mimetype": "text/x-python",
   "name": "python",
   "nbconvert_exporter": "python",
   "pygments_lexer": "ipython3",
   "version": "3.10.1"
  },
  "orig_nbformat": 4
 },
 "nbformat": 4,
 "nbformat_minor": 2
}
