{
 "cells": [
  {
   "cell_type": "code",
   "execution_count": 5,
   "metadata": {},
   "outputs": [],
   "source": [
    "import pandas as pd\n",
    "import utils\n",
    "import presupuestos"
   ]
  },
  {
   "cell_type": "code",
   "execution_count": 6,
   "metadata": {},
   "outputs": [
    {
     "data": {
      "text/plain": [
       "credito_presupuestado    4.172312e+06\n",
       "credito_vigente          4.928184e+06\n",
       "credito_comprometido     4.765883e+06\n",
       "credito_devengado        4.762089e+06\n",
       "credito_pagado           4.587236e+06\n",
       "dtype: float64"
      ]
     },
     "execution_count": 6,
     "metadata": {},
     "output_type": "execute_result"
    }
   ],
   "source": [
    "credito_anual_19 = pd.read_csv(\"./data/credito-anual/credito-anual-2019.csv\")\n",
    "creditos_19 = presupuestos.calcularSumaCreditos(credito_anual_19)\n",
    "creditos_19"
   ]
  },
  {
   "cell_type": "code",
   "execution_count": 7,
   "metadata": {},
   "outputs": [
    {
     "data": {
      "text/plain": [
       "credito_presupuestado    2.878796e+06\n",
       "credito_vigente          3.379235e+06\n",
       "credito_comprometido     3.300665e+06\n",
       "credito_devengado        3.298979e+06\n",
       "credito_pagado           3.193254e+06\n",
       "dtype: float64"
      ]
     },
     "execution_count": 7,
     "metadata": {},
     "output_type": "execute_result"
    }
   ],
   "source": [
    "credito_anual_18 = pd.read_csv(\"./data/credito-anual/credito-anual-2018.csv\")\n",
    "creditos_18 = presupuestos.calcularSumaCreditos(credito_anual_18)\n",
    "creditos_18"
   ]
  },
  {
   "cell_type": "code",
   "execution_count": 12,
   "metadata": {},
   "outputs": [],
   "source": [
    "credito_anual_17 = pd.read_csv(\"./data/credito-anual/credito-historico-anual-2017.csv\");\n",
    "creditos_17 = presupuestos.calcularSumaCreditos(credito_anual_17)"
   ]
  },
  {
   "cell_type": "code",
   "execution_count": 13,
   "metadata": {},
   "outputs": [
    {
     "data": {
      "text/html": [
       "<div>\n",
       "<style scoped>\n",
       "    .dataframe tbody tr th:only-of-type {\n",
       "        vertical-align: middle;\n",
       "    }\n",
       "\n",
       "    .dataframe tbody tr th {\n",
       "        vertical-align: top;\n",
       "    }\n",
       "\n",
       "    .dataframe thead th {\n",
       "        text-align: right;\n",
       "    }\n",
       "</style>\n",
       "<table border=\"1\" class=\"dataframe\">\n",
       "  <thead>\n",
       "    <tr style=\"text-align: right;\">\n",
       "      <th></th>\n",
       "      <th>credito_presupuestado</th>\n",
       "      <th>credito_vigente</th>\n",
       "      <th>credito_comprometido</th>\n",
       "      <th>credito_devengado</th>\n",
       "      <th>credito_pagado</th>\n",
       "    </tr>\n",
       "  </thead>\n",
       "  <tbody>\n",
       "    <tr>\n",
       "      <th>2017</th>\n",
       "      <td>2.363659e+06</td>\n",
       "      <td>2.633515e+06</td>\n",
       "      <td>2.566868e+06</td>\n",
       "      <td>2.564005e+06</td>\n",
       "      <td>2.482121e+06</td>\n",
       "    </tr>\n",
       "    <tr>\n",
       "      <th>2018</th>\n",
       "      <td>2.878796e+06</td>\n",
       "      <td>3.379235e+06</td>\n",
       "      <td>3.300665e+06</td>\n",
       "      <td>3.298979e+06</td>\n",
       "      <td>3.193254e+06</td>\n",
       "    </tr>\n",
       "    <tr>\n",
       "      <th>2019</th>\n",
       "      <td>4.172312e+06</td>\n",
       "      <td>4.928184e+06</td>\n",
       "      <td>4.765883e+06</td>\n",
       "      <td>4.762089e+06</td>\n",
       "      <td>4.587236e+06</td>\n",
       "    </tr>\n",
       "  </tbody>\n",
       "</table>\n",
       "</div>"
      ],
      "text/plain": [
       "      credito_presupuestado  credito_vigente  credito_comprometido  \\\n",
       "2017           2.363659e+06     2.633515e+06          2.566868e+06   \n",
       "2018           2.878796e+06     3.379235e+06          3.300665e+06   \n",
       "2019           4.172312e+06     4.928184e+06          4.765883e+06   \n",
       "\n",
       "      credito_devengado  credito_pagado  \n",
       "2017       2.564005e+06    2.482121e+06  \n",
       "2018       3.298979e+06    3.193254e+06  \n",
       "2019       4.762089e+06    4.587236e+06  "
      ]
     },
     "execution_count": 13,
     "metadata": {},
     "output_type": "execute_result"
    }
   ],
   "source": [
    "creditos_historico = pd.DataFrame(\n",
    "    data=[\n",
    "        creditos_17, \n",
    "        creditos_18, \n",
    "        creditos_19], \n",
    "    index=[\n",
    "        \"2017\",\n",
    "        \"2018\", \n",
    "        \"2019\"])\n",
    "creditos_historico\n"
   ]
  }
 ],
 "metadata": {
  "interpreter": {
   "hash": "7152278db559e2e9b098350b5a7167e31f17e15bf58f426d9d3d7293b63f9cd7"
  },
  "kernelspec": {
   "display_name": "Python 3.9.7 64-bit ('env': venv)",
   "language": "python",
   "name": "python3"
  },
  "language_info": {
   "codemirror_mode": {
    "name": "ipython",
    "version": 3
   },
   "file_extension": ".py",
   "mimetype": "text/x-python",
   "name": "python",
   "nbconvert_exporter": "python",
   "pygments_lexer": "ipython3",
   "version": "3.9.7"
  },
  "orig_nbformat": 4
 },
 "nbformat": 4,
 "nbformat_minor": 2
}
