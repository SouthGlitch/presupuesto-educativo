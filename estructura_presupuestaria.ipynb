{
 "cells": [
  {
   "cell_type": "markdown",
   "metadata": {},
   "source": [
    "## Finalidad y función\n",
    "Debajo se encuentra  la tabla de informaciones sobre la finalidad y función de cada item presupuestario.\n",
    "Cada finalidad tiene un id (finalidad_id) y cada función también (funcion_id)"
   ]
  },
  {
   "cell_type": "code",
   "execution_count": 2,
   "metadata": {},
   "outputs": [
    {
     "name": "stdout",
     "output_type": "stream",
     "text": [
      "<class 'pandas.core.frame.DataFrame'>\n",
      "RangeIndex: 29 entries, 0 to 28\n",
      "Data columns (total 6 columns):\n",
      " #   Column                      Non-Null Count  Dtype \n",
      "---  ------                      --------------  ----- \n",
      " 0   ejercicio_presupuestario    29 non-null     int64 \n",
      " 1   finalidad_id                29 non-null     int64 \n",
      " 2   finalidad_desc              29 non-null     object\n",
      " 3   funcion_id                  29 non-null     int64 \n",
      " 4   funcion_desc                29 non-null     object\n",
      " 5   ultima_actualizacion_fecha  29 non-null     object\n",
      "dtypes: int64(3), object(3)\n",
      "memory usage: 1.5+ KB\n"
     ]
    }
   ],
   "source": [
    "import pandas as pd\n",
    "\n",
    "finalidad_funcion_2019 = pd.read_csv('./data/2019/d-finalidad-funcion-2019.csv')\n",
    "finalidad_funcion_2019.info()"
   ]
  },
  {
   "cell_type": "markdown",
   "metadata": {},
   "source": [
    "Hay dos funciones que nos interesan:\n",
    "- Educación y Cultura\n",
    "- Ciencia y Técnica\n",
    "\n",
    "Ambas se encuentran dentro de la funcion \"SERVICIOS_SOCIALES\" (finalidad_id = 3)"
   ]
  },
  {
   "cell_type": "code",
   "execution_count": 3,
   "metadata": {},
   "outputs": [
    {
     "data": {
      "text/html": [
       "<div>\n",
       "<style scoped>\n",
       "    .dataframe tbody tr th:only-of-type {\n",
       "        vertical-align: middle;\n",
       "    }\n",
       "\n",
       "    .dataframe tbody tr th {\n",
       "        vertical-align: top;\n",
       "    }\n",
       "\n",
       "    .dataframe thead th {\n",
       "        text-align: right;\n",
       "    }\n",
       "</style>\n",
       "<table border=\"1\" class=\"dataframe\">\n",
       "  <thead>\n",
       "    <tr style=\"text-align: right;\">\n",
       "      <th></th>\n",
       "      <th>ejercicio_presupuestario</th>\n",
       "      <th>finalidad_id</th>\n",
       "      <th>finalidad_desc</th>\n",
       "      <th>funcion_id</th>\n",
       "      <th>funcion_desc</th>\n",
       "      <th>ultima_actualizacion_fecha</th>\n",
       "    </tr>\n",
       "  </thead>\n",
       "  <tbody>\n",
       "    <tr>\n",
       "      <th>12</th>\n",
       "      <td>2019</td>\n",
       "      <td>3</td>\n",
       "      <td>SERVICIOS SOCIALES</td>\n",
       "      <td>1</td>\n",
       "      <td>Salud</td>\n",
       "      <td>Última actualización del ejercicio 2019: 26 Ju...</td>\n",
       "    </tr>\n",
       "    <tr>\n",
       "      <th>13</th>\n",
       "      <td>2019</td>\n",
       "      <td>3</td>\n",
       "      <td>SERVICIOS SOCIALES</td>\n",
       "      <td>2</td>\n",
       "      <td>Promoción y Asistencia Social</td>\n",
       "      <td>Última actualización del ejercicio 2019: 26 Ju...</td>\n",
       "    </tr>\n",
       "    <tr>\n",
       "      <th>14</th>\n",
       "      <td>2019</td>\n",
       "      <td>3</td>\n",
       "      <td>SERVICIOS SOCIALES</td>\n",
       "      <td>3</td>\n",
       "      <td>Seguridad Social</td>\n",
       "      <td>Última actualización del ejercicio 2019: 26 Ju...</td>\n",
       "    </tr>\n",
       "    <tr>\n",
       "      <th>15</th>\n",
       "      <td>2019</td>\n",
       "      <td>3</td>\n",
       "      <td>SERVICIOS SOCIALES</td>\n",
       "      <td>4</td>\n",
       "      <td>Educación y Cultura</td>\n",
       "      <td>Última actualización del ejercicio 2019: 26 Ju...</td>\n",
       "    </tr>\n",
       "    <tr>\n",
       "      <th>16</th>\n",
       "      <td>2019</td>\n",
       "      <td>3</td>\n",
       "      <td>SERVICIOS SOCIALES</td>\n",
       "      <td>5</td>\n",
       "      <td>Ciencia y Técnica</td>\n",
       "      <td>Última actualización del ejercicio 2019: 26 Ju...</td>\n",
       "    </tr>\n",
       "    <tr>\n",
       "      <th>17</th>\n",
       "      <td>2019</td>\n",
       "      <td>3</td>\n",
       "      <td>SERVICIOS SOCIALES</td>\n",
       "      <td>6</td>\n",
       "      <td>Trabajo</td>\n",
       "      <td>Última actualización del ejercicio 2019: 26 Ju...</td>\n",
       "    </tr>\n",
       "    <tr>\n",
       "      <th>18</th>\n",
       "      <td>2019</td>\n",
       "      <td>3</td>\n",
       "      <td>SERVICIOS SOCIALES</td>\n",
       "      <td>7</td>\n",
       "      <td>Vivienda y Urbanismo</td>\n",
       "      <td>Última actualización del ejercicio 2019: 26 Ju...</td>\n",
       "    </tr>\n",
       "    <tr>\n",
       "      <th>19</th>\n",
       "      <td>2019</td>\n",
       "      <td>3</td>\n",
       "      <td>SERVICIOS SOCIALES</td>\n",
       "      <td>8</td>\n",
       "      <td>Agua Potable y Alcantarillado</td>\n",
       "      <td>Última actualización del ejercicio 2019: 26 Ju...</td>\n",
       "    </tr>\n",
       "  </tbody>\n",
       "</table>\n",
       "</div>"
      ],
      "text/plain": [
       "    ejercicio_presupuestario  finalidad_id      finalidad_desc  funcion_id  \\\n",
       "12                      2019             3  SERVICIOS SOCIALES           1   \n",
       "13                      2019             3  SERVICIOS SOCIALES           2   \n",
       "14                      2019             3  SERVICIOS SOCIALES           3   \n",
       "15                      2019             3  SERVICIOS SOCIALES           4   \n",
       "16                      2019             3  SERVICIOS SOCIALES           5   \n",
       "17                      2019             3  SERVICIOS SOCIALES           6   \n",
       "18                      2019             3  SERVICIOS SOCIALES           7   \n",
       "19                      2019             3  SERVICIOS SOCIALES           8   \n",
       "\n",
       "                     funcion_desc  \\\n",
       "12                          Salud   \n",
       "13  Promoción y Asistencia Social   \n",
       "14               Seguridad Social   \n",
       "15            Educación y Cultura   \n",
       "16              Ciencia y Técnica   \n",
       "17                        Trabajo   \n",
       "18           Vivienda y Urbanismo   \n",
       "19  Agua Potable y Alcantarillado   \n",
       "\n",
       "                           ultima_actualizacion_fecha  \n",
       "12  Última actualización del ejercicio 2019: 26 Ju...  \n",
       "13  Última actualización del ejercicio 2019: 26 Ju...  \n",
       "14  Última actualización del ejercicio 2019: 26 Ju...  \n",
       "15  Última actualización del ejercicio 2019: 26 Ju...  \n",
       "16  Última actualización del ejercicio 2019: 26 Ju...  \n",
       "17  Última actualización del ejercicio 2019: 26 Ju...  \n",
       "18  Última actualización del ejercicio 2019: 26 Ju...  \n",
       "19  Última actualización del ejercicio 2019: 26 Ju...  "
      ]
     },
     "execution_count": 3,
     "metadata": {},
     "output_type": "execute_result"
    }
   ],
   "source": [
    "ff_19 = finalidad_funcion_2019 # sólo un alias para no escribir tanto\n",
    "servicios_sociales = finalidad_funcion_2019[ff_19[\"finalidad_desc\"]==\"SERVICIOS SOCIALES\"]\n",
    "servicios_sociales"
   ]
  },
  {
   "cell_type": "markdown",
   "metadata": {},
   "source": [
    "\n",
    "Nótese la composición de los identificadores. En primer lugar se encuentra el 'ejercicio_presupuestario', luego 'finalidad_id' finalmente 'funcion_id'; Cada uno se repite, pero juntos generan un id único. \n",
    "\n",
    "Por lo tanto, podemos intentar definir identificador \"universal\" de un de una función cómo su `<<ejercicio_presupuestario>>.<<finalidad_id>>.<<funcion_id>>`"
   ]
  },
  {
   "cell_type": "code",
   "execution_count": 4,
   "metadata": {},
   "outputs": [
    {
     "data": {
      "text/html": [
       "<div>\n",
       "<style scoped>\n",
       "    .dataframe tbody tr th:only-of-type {\n",
       "        vertical-align: middle;\n",
       "    }\n",
       "\n",
       "    .dataframe tbody tr th {\n",
       "        vertical-align: top;\n",
       "    }\n",
       "\n",
       "    .dataframe thead th {\n",
       "        text-align: right;\n",
       "    }\n",
       "</style>\n",
       "<table border=\"1\" class=\"dataframe\">\n",
       "  <thead>\n",
       "    <tr style=\"text-align: right;\">\n",
       "      <th></th>\n",
       "      <th>ejercicio_presupuestario</th>\n",
       "      <th>finalidad_id</th>\n",
       "      <th>funcion_id</th>\n",
       "      <th>funcion_desc</th>\n",
       "    </tr>\n",
       "  </thead>\n",
       "  <tbody>\n",
       "    <tr>\n",
       "      <th>12</th>\n",
       "      <td>2019</td>\n",
       "      <td>3</td>\n",
       "      <td>1</td>\n",
       "      <td>Salud</td>\n",
       "    </tr>\n",
       "    <tr>\n",
       "      <th>13</th>\n",
       "      <td>2019</td>\n",
       "      <td>3</td>\n",
       "      <td>2</td>\n",
       "      <td>Promoción y Asistencia Social</td>\n",
       "    </tr>\n",
       "    <tr>\n",
       "      <th>14</th>\n",
       "      <td>2019</td>\n",
       "      <td>3</td>\n",
       "      <td>3</td>\n",
       "      <td>Seguridad Social</td>\n",
       "    </tr>\n",
       "    <tr>\n",
       "      <th>15</th>\n",
       "      <td>2019</td>\n",
       "      <td>3</td>\n",
       "      <td>4</td>\n",
       "      <td>Educación y Cultura</td>\n",
       "    </tr>\n",
       "    <tr>\n",
       "      <th>16</th>\n",
       "      <td>2019</td>\n",
       "      <td>3</td>\n",
       "      <td>5</td>\n",
       "      <td>Ciencia y Técnica</td>\n",
       "    </tr>\n",
       "    <tr>\n",
       "      <th>17</th>\n",
       "      <td>2019</td>\n",
       "      <td>3</td>\n",
       "      <td>6</td>\n",
       "      <td>Trabajo</td>\n",
       "    </tr>\n",
       "    <tr>\n",
       "      <th>18</th>\n",
       "      <td>2019</td>\n",
       "      <td>3</td>\n",
       "      <td>7</td>\n",
       "      <td>Vivienda y Urbanismo</td>\n",
       "    </tr>\n",
       "    <tr>\n",
       "      <th>19</th>\n",
       "      <td>2019</td>\n",
       "      <td>3</td>\n",
       "      <td>8</td>\n",
       "      <td>Agua Potable y Alcantarillado</td>\n",
       "    </tr>\n",
       "  </tbody>\n",
       "</table>\n",
       "</div>"
      ],
      "text/plain": [
       "    ejercicio_presupuestario  finalidad_id  funcion_id  \\\n",
       "12                      2019             3           1   \n",
       "13                      2019             3           2   \n",
       "14                      2019             3           3   \n",
       "15                      2019             3           4   \n",
       "16                      2019             3           5   \n",
       "17                      2019             3           6   \n",
       "18                      2019             3           7   \n",
       "19                      2019             3           8   \n",
       "\n",
       "                     funcion_desc  \n",
       "12                          Salud  \n",
       "13  Promoción y Asistencia Social  \n",
       "14               Seguridad Social  \n",
       "15            Educación y Cultura  \n",
       "16              Ciencia y Técnica  \n",
       "17                        Trabajo  \n",
       "18           Vivienda y Urbanismo  \n",
       "19  Agua Potable y Alcantarillado  "
      ]
     },
     "execution_count": 4,
     "metadata": {},
     "output_type": "execute_result"
    }
   ],
   "source": [
    "servicios_sociales[[\"ejercicio_presupuestario\", \"finalidad_id\", \"funcion_id\", \"funcion_desc\"]]"
   ]
  },
  {
   "cell_type": "markdown",
   "metadata": {},
   "source": [
    "### Extracción de identificadores"
   ]
  },
  {
   "cell_type": "code",
   "execution_count": 5,
   "metadata": {},
   "outputs": [],
   "source": [
    "from DescripcionPorFuncion import extraerDescripcion, generarIdentificadorUniversal, generarCodigoFinalidadFuncion\n"
   ]
  },
  {
   "cell_type": "markdown",
   "metadata": {},
   "source": [
    "#### Educación y Cultura"
   ]
  },
  {
   "cell_type": "code",
   "execution_count": 6,
   "metadata": {},
   "outputs": [
    {
     "data": {
      "text/html": [
       "<div>\n",
       "<style scoped>\n",
       "    .dataframe tbody tr th:only-of-type {\n",
       "        vertical-align: middle;\n",
       "    }\n",
       "\n",
       "    .dataframe tbody tr th {\n",
       "        vertical-align: top;\n",
       "    }\n",
       "\n",
       "    .dataframe thead th {\n",
       "        text-align: right;\n",
       "    }\n",
       "</style>\n",
       "<table border=\"1\" class=\"dataframe\">\n",
       "  <thead>\n",
       "    <tr style=\"text-align: right;\">\n",
       "      <th></th>\n",
       "      <th>ejercicio_presupuestario</th>\n",
       "      <th>finalidad_id</th>\n",
       "      <th>finalidad_desc</th>\n",
       "      <th>funcion_id</th>\n",
       "      <th>funcion_desc</th>\n",
       "      <th>ultima_actualizacion_fecha</th>\n",
       "    </tr>\n",
       "  </thead>\n",
       "  <tbody>\n",
       "    <tr>\n",
       "      <th>15</th>\n",
       "      <td>2019</td>\n",
       "      <td>3</td>\n",
       "      <td>SERVICIOS SOCIALES</td>\n",
       "      <td>4</td>\n",
       "      <td>Educación y Cultura</td>\n",
       "      <td>Última actualización del ejercicio 2019: 26 Ju...</td>\n",
       "    </tr>\n",
       "  </tbody>\n",
       "</table>\n",
       "</div>"
      ],
      "text/plain": [
       "    ejercicio_presupuestario  finalidad_id      finalidad_desc  funcion_id  \\\n",
       "15                      2019             3  SERVICIOS SOCIALES           4   \n",
       "\n",
       "           funcion_desc                         ultima_actualizacion_fecha  \n",
       "15  Educación y Cultura  Última actualización del ejercicio 2019: 26 Ju...  "
      ]
     },
     "execution_count": 6,
     "metadata": {},
     "output_type": "execute_result"
    }
   ],
   "source": [
    "ss = servicios_sociales\n",
    "educacion_cultura = servicios_sociales[ss[\"funcion_desc\"] == \"Educación y Cultura\"]\n",
    "educacion_cultura\n"
   ]
  },
  {
   "cell_type": "code",
   "execution_count": 7,
   "metadata": {},
   "outputs": [
    {
     "name": "stdout",
     "output_type": "stream",
     "text": [
      "2019.3.4\n"
     ]
    }
   ],
   "source": [
    "desc_educacion_cultura = extraerDescripcion(educacion_cultura)\n",
    "idUniversal = generarIdentificadorUniversal(desc_educacion_cultura)\n",
    "print(idUniversal)\n"
   ]
  },
  {
   "cell_type": "markdown",
   "metadata": {},
   "source": [
    "#### Ciencia y Técnica"
   ]
  },
  {
   "cell_type": "code",
   "execution_count": 8,
   "metadata": {},
   "outputs": [
    {
     "data": {
      "text/html": [
       "<div>\n",
       "<style scoped>\n",
       "    .dataframe tbody tr th:only-of-type {\n",
       "        vertical-align: middle;\n",
       "    }\n",
       "\n",
       "    .dataframe tbody tr th {\n",
       "        vertical-align: top;\n",
       "    }\n",
       "\n",
       "    .dataframe thead th {\n",
       "        text-align: right;\n",
       "    }\n",
       "</style>\n",
       "<table border=\"1\" class=\"dataframe\">\n",
       "  <thead>\n",
       "    <tr style=\"text-align: right;\">\n",
       "      <th></th>\n",
       "      <th>ejercicio_presupuestario</th>\n",
       "      <th>finalidad_id</th>\n",
       "      <th>finalidad_desc</th>\n",
       "      <th>funcion_id</th>\n",
       "      <th>funcion_desc</th>\n",
       "      <th>ultima_actualizacion_fecha</th>\n",
       "    </tr>\n",
       "  </thead>\n",
       "  <tbody>\n",
       "    <tr>\n",
       "      <th>16</th>\n",
       "      <td>2019</td>\n",
       "      <td>3</td>\n",
       "      <td>SERVICIOS SOCIALES</td>\n",
       "      <td>5</td>\n",
       "      <td>Ciencia y Técnica</td>\n",
       "      <td>Última actualización del ejercicio 2019: 26 Ju...</td>\n",
       "    </tr>\n",
       "  </tbody>\n",
       "</table>\n",
       "</div>"
      ],
      "text/plain": [
       "    ejercicio_presupuestario  finalidad_id      finalidad_desc  funcion_id  \\\n",
       "16                      2019             3  SERVICIOS SOCIALES           5   \n",
       "\n",
       "         funcion_desc                         ultima_actualizacion_fecha  \n",
       "16  Ciencia y Técnica  Última actualización del ejercicio 2019: 26 Ju...  "
      ]
     },
     "execution_count": 8,
     "metadata": {},
     "output_type": "execute_result"
    }
   ],
   "source": [
    "ss = servicios_sociales\n",
    "ciencia_tecnica = servicios_sociales[ss[\"funcion_desc\"]==\"Ciencia y Técnica\"]\n",
    "ciencia_tecnica"
   ]
  },
  {
   "cell_type": "code",
   "execution_count": 9,
   "metadata": {},
   "outputs": [
    {
     "data": {
      "text/plain": [
       "'2019.3.5'"
      ]
     },
     "execution_count": 9,
     "metadata": {},
     "output_type": "execute_result"
    }
   ],
   "source": [
    "desc_ciencia_tecnica = extraerDescripcion(ciencia_tecnica)\n",
    "generarIdentificadorUniversal(desc_ciencia_tecnica)"
   ]
  },
  {
   "cell_type": "markdown",
   "metadata": {},
   "source": [
    "## Inversión neta del presupuesto 2019 en 'Educación y Cultura'"
   ]
  },
  {
   "cell_type": "markdown",
   "metadata": {},
   "source": [
    "### Investigación del documento *\"Proyecto de Ley de Presupuesto Finalidad Función 2019\"*"
   ]
  },
  {
   "cell_type": "markdown",
   "metadata": {},
   "source": [
    "Observese que en el documento \"Proyecto de Ley de Presupuesto Finalidad Función 2019\" (pc-proy19-finfun.csv) se utiliza cómo *\"código de finalidad funcion\"* para identificar ele elemento for finalidad y función, ambos identificadores se funcionan en uno ***'finalidad-función'***"
   ]
  },
  {
   "cell_type": "code",
   "execution_count": 10,
   "metadata": {},
   "outputs": [
    {
     "name": "stdout",
     "output_type": "stream",
     "text": [
      "<class 'pandas.core.frame.DataFrame'>\n",
      "RangeIndex: 231 entries, 0 to 230\n",
      "Data columns (total 9 columns):\n",
      " #   Column                            Non-Null Count  Dtype  \n",
      "---  ------                            --------------  -----  \n",
      " 0   Código de  Jurisdicción           231 non-null    int64  \n",
      " 1   Descripción de  Jurisdicción      231 non-null    object \n",
      " 2   Código de  Subjurisdicción        231 non-null    int64  \n",
      " 3   Descripción de  Subjurisdicción   231 non-null    object \n",
      " 4   Código de  Entidad                231 non-null    int64  \n",
      " 5   Descripción de  Entidad           231 non-null    object \n",
      " 6   Código de Finalidad Función       231 non-null    float64\n",
      " 7   Descripción de Finalidad Función  231 non-null    object \n",
      " 8   Crédito 2019                      231 non-null    int64  \n",
      "dtypes: float64(1), int64(4), object(4)\n",
      "memory usage: 16.4+ KB\n"
     ]
    }
   ],
   "source": [
    "presupuesto_2019 = pd.read_csv('./data/2019/pc-proy19-finfun.csv', encoding=\"ISO-8859-1\")\n",
    "presupuesto_2019.info()"
   ]
  },
  {
   "cell_type": "code",
   "execution_count": 11,
   "metadata": {},
   "outputs": [
    {
     "data": {
      "text/plain": [
       "0      1.1\n",
       "1      3.1\n",
       "2      1.2\n",
       "3      3.4\n",
       "4      1.7\n",
       "      ... \n",
       "226    4.6\n",
       "227    3.7\n",
       "228    3.8\n",
       "229    4.8\n",
       "230    9.9\n",
       "Name: Código de Finalidad Función, Length: 231, dtype: float64"
      ]
     },
     "execution_count": 11,
     "metadata": {},
     "output_type": "execute_result"
    }
   ],
   "source": [
    "codigos_finalidad_funcion = presupuesto_2019[\"Código de Finalidad Función\"]\n",
    "codigos_finalidad_funcion"
   ]
  },
  {
   "cell_type": "markdown",
   "metadata": {},
   "source": [
    "#### Código de Finalidad Función"
   ]
  },
  {
   "cell_type": "markdown",
   "metadata": {},
   "source": [
    "1. ¿Cuantos códigos hay? (no únicos)"
   ]
  },
  {
   "cell_type": "code",
   "execution_count": 12,
   "metadata": {},
   "outputs": [
    {
     "data": {
      "text/plain": [
       "231"
      ]
     },
     "execution_count": 12,
     "metadata": {},
     "output_type": "execute_result"
    }
   ],
   "source": [
    "# index = pd.Index(codigos_finalidad_funcion)\n",
    "# index\n",
    "codigos_finalidad_funcion.size"
   ]
  },
  {
   "cell_type": "markdown",
   "metadata": {},
   "source": [
    "2. ¿Son unicas? (o sea, ¿no se repiten?)"
   ]
  },
  {
   "cell_type": "code",
   "execution_count": 13,
   "metadata": {},
   "outputs": [
    {
     "data": {
      "text/plain": [
       "False"
      ]
     },
     "execution_count": 13,
     "metadata": {},
     "output_type": "execute_result"
    }
   ],
   "source": [
    "codigos_finalidad_funcion.is_unique"
   ]
  },
  {
   "cell_type": "markdown",
   "metadata": {},
   "source": [
    "Al tener elementos duplicados, podemos incluir que existen dos o mas items en una o más 'finalidad-función', veamos cuales de ellas son de \"Educación y Cultura\""
   ]
  },
  {
   "cell_type": "markdown",
   "metadata": {},
   "source": [
    "#### Entidades"
   ]
  },
  {
   "cell_type": "markdown",
   "metadata": {},
   "source": [
    "¿Cuantas entidades hay?"
   ]
  },
  {
   "cell_type": "code",
   "execution_count": 14,
   "metadata": {},
   "outputs": [
    {
     "data": {
      "text/plain": [
       "231"
      ]
     },
     "execution_count": 14,
     "metadata": {},
     "output_type": "execute_result"
    }
   ],
   "source": [
    "entidades = presupuesto_2019[\"Descripción de  Entidad\"]\n",
    "entidades.size"
   ]
  },
  {
   "cell_type": "markdown",
   "metadata": {},
   "source": [
    "¿Las entidades son únicas? (o sea ¿no se repiten?)"
   ]
  },
  {
   "cell_type": "code",
   "execution_count": 15,
   "metadata": {},
   "outputs": [
    {
     "data": {
      "text/plain": [
       "False"
      ]
     },
     "execution_count": 15,
     "metadata": {},
     "output_type": "execute_result"
    }
   ],
   "source": [
    "entidades.is_unique"
   ]
  },
  {
   "cell_type": "markdown",
   "metadata": {},
   "source": [
    "### Presupuesto por código finalidad funcion"
   ]
  },
  {
   "cell_type": "markdown",
   "metadata": {},
   "source": [
    "1. ¿Cuantos códigos de finalidades funcion hay en el presupuesto?"
   ]
  },
  {
   "cell_type": "code",
   "execution_count": 16,
   "metadata": {},
   "outputs": [
    {
     "data": {
      "text/plain": [
       "30"
      ]
     },
     "execution_count": 16,
     "metadata": {},
     "output_type": "execute_result"
    }
   ],
   "source": [
    "# ff_presupuesto_2019 = presupuesto_2019.groupby(\"Descripción de Finalidad Función\")\n",
    "cff_presupuesto_2019 = presupuesto_2019.groupby(\"Código de Finalidad Función\")\n",
    "cff_presupuesto_2019.ngroups"
   ]
  },
  {
   "cell_type": "markdown",
   "metadata": {},
   "source": [
    "2. ¿Cuantas descripciones de finalidad presupuesto hay?"
   ]
  },
  {
   "cell_type": "code",
   "execution_count": 17,
   "metadata": {},
   "outputs": [
    {
     "data": {
      "text/plain": [
       "30"
      ]
     },
     "execution_count": 17,
     "metadata": {},
     "output_type": "execute_result"
    }
   ],
   "source": [
    "dff_presupuesto_2019 = presupuesto_2019.groupby(\"Descripción de Finalidad Función\")\n",
    "dff_presupuesto_2019.ngroups"
   ]
  },
  {
   "cell_type": "markdown",
   "metadata": {},
   "source": [
    "2. ¿hay misma cantidad de elementos *Código de Finalidad Función* que *Descripción de Finalidad Función*?"
   ]
  },
  {
   "cell_type": "code",
   "execution_count": 18,
   "metadata": {},
   "outputs": [
    {
     "name": "stdout",
     "output_type": "stream",
     "text": [
      "True\n"
     ]
    }
   ],
   "source": [
    "print(dff_presupuesto_2019.ngroups == cff_presupuesto_2019.ngroups)"
   ]
  },
  {
   "cell_type": "code",
   "execution_count": 19,
   "metadata": {},
   "outputs": [
    {
     "data": {
      "text/plain": [
       "count    3.000000e+01\n",
       "mean     1.664729e+11\n",
       "std      4.124680e+11\n",
       "min      1.287670e+09\n",
       "25%      9.348188e+09\n",
       "50%      2.485109e+10\n",
       "75%      8.635121e+10\n",
       "max      2.086513e+12\n",
       "Name: Crédito 2019, dtype: float64"
      ]
     },
     "execution_count": 19,
     "metadata": {},
     "output_type": "execute_result"
    }
   ],
   "source": [
    "\n",
    "credito_ff_p_2019 = dff_presupuesto_2019[\"Crédito 2019\"].sum()\n",
    "credito_ff_p_2019.describe()"
   ]
  },
  {
   "cell_type": "code",
   "execution_count": 20,
   "metadata": {},
   "outputs": [
    {
     "data": {
      "text/plain": [
       "Descripción de Finalidad Función\n",
       "Administración Fiscal                     2902262516\n",
       "Agricultura                              10967253203\n",
       "Agua Potable y Alcantarillado            24428851749\n",
       "Ciencia y Técnica                        46259349982\n",
       "Comercio, Turismo y Otros Servicios       4466055942\n",
       "Comunicaciones                           12263240119\n",
       "Control de la Gestión Pública             3592735620\n",
       "Defensa                                  71042483247\n",
       "Dirección Superior Ejecutiva             14393361677\n",
       "Ecología y Medio Ambiente                 8481941000\n",
       "Educación y Cultura                     229303637925\n",
       "Energía, Combustibles y Minería         222895008057\n",
       "Industria                                 8886039163\n",
       "Información y Estadística Básicas         2017167509\n",
       "Inteligencia                              7603394856\n",
       "Judicial                                 66942200987\n",
       "Legislativa                              20091055007\n",
       "OTROS                                   821874078254\n",
       "Promoción y Asistencia Social            66342388134\n",
       "Relaciones Exteriores                    25273318831\n",
       "Relaciones Interiores                    32724066820\n",
       "Salud                                   149697492929\n",
       "Seguridad Interior                       91454114106\n",
       "Seguridad Social                       2086512990492\n",
       "Seguros y Finanzas                        1287669622\n",
       "Servicio de la Deuda Pública            746389149419\n",
       "Sistema Penal                            17671420239\n",
       "Trabajo                                  10734635604\n",
       "Transporte                              158888103024\n",
       "Vivienda y Urbanismo                     28800851662\n",
       "Name: Crédito 2019, dtype: int64"
      ]
     },
     "execution_count": 20,
     "metadata": {},
     "output_type": "execute_result"
    }
   ],
   "source": [
    "credito_ff_p_2019"
   ]
  },
  {
   "cell_type": "code",
   "execution_count": 21,
   "metadata": {},
   "outputs": [
    {
     "data": {
      "text/plain": [
       "<AxesSubplot:xlabel='Descripción de Finalidad Función', ylabel='en billones de AR$'>"
      ]
     },
     "execution_count": 21,
     "metadata": {},
     "output_type": "execute_result"
    },
    {
     "data": {
      "image/png": "[encoded data removed]",
      "text/plain": [
       "<Figure size 1440x288 with 1 Axes>"
      ]
     },
     "metadata": {
      "needs_background": "light"
     },
     "output_type": "display_data"
    }
   ],
   "source": [
    "credito_ff_p_2019.plot(kind=\"bar\", figsize=[20,4], fontsize=14, ylabel=\"en billones de AR$\")"
   ]
  },
  {
   "cell_type": "markdown",
   "metadata": {},
   "source": [
    "**Atención, el total estipulado a través de sumar el crédito de todos los elementos por su código \"finalidad función\" da un credito total distinto al establecido en [la ley Presupuesto 2019](https://www.economia.gob.ar/onp/documentos/presutexto/proy2019/ley/pdf/proy2019.pdf)**\n",
    "\n",
    "Debe investigarse otros documentos, o revisar el proceso de extracción de datos."
   ]
  },
  {
   "cell_type": "code",
   "execution_count": 28,
   "metadata": {},
   "outputs": [
    {
     "data": {
      "text/plain": [
       "4994186317695"
      ]
     },
     "execution_count": 28,
     "metadata": {},
     "output_type": "execute_result"
    }
   ],
   "source": [
    "credito_ff_p_2019.sum()"
   ]
  },
  {
   "cell_type": "code",
   "execution_count": 23,
   "metadata": {},
   "outputs": [
    {
     "data": {
      "text/plain": [
       "<AxesSubplot:xlabel='Descripción de Finalidad Función'>"
      ]
     },
     "execution_count": 23,
     "metadata": {},
     "output_type": "execute_result"
    },
    {
     "data": {
      "image/png": "[encoded data removed]",
      "text/plain": [
       "<Figure size 1440x288 with 1 Axes>"
      ]
     },
     "metadata": {
      "needs_background": "light"
     },
     "output_type": "display_data"
    }
   ],
   "source": [
    "extraerPorcentaje = lambda x: (x/total_credito_2019)*100\n",
    "porcentajes_credito_ff_p_2019 = credito_ff_p_2019.apply(extraerPorcentaje)\n",
    "porcentajes_credito_ff_p_2019.plot(kind=\"bar\", figsize=[20,4], fontsize=14)"
   ]
  },
  {
   "cell_type": "markdown",
   "metadata": {},
   "source": [
    "### Educación y Cultura"
   ]
  },
  {
   "cell_type": "markdown",
   "metadata": {},
   "source": [
    "Creamos una tabla dónde el código de finalidad funcion sea igual al de \"Educación y Cultura\". Podemos identificar 17 entradas, cada úna con una jurisdiccion, subjuridiccion, entidad, finalidad-funcion."
   ]
  },
  {
   "cell_type": "code",
   "execution_count": 24,
   "metadata": {},
   "outputs": [
    {
     "name": "stdout",
     "output_type": "stream",
     "text": [
      "<class 'pandas.core.frame.DataFrame'>\n",
      "Int64Index: 24 entries, 3 to 219\n",
      "Data columns (total 9 columns):\n",
      " #   Column                            Non-Null Count  Dtype  \n",
      "---  ------                            --------------  -----  \n",
      " 0   Código de  Jurisdicción           24 non-null     int64  \n",
      " 1   Descripción de  Jurisdicción      24 non-null     object \n",
      " 2   Código de  Subjurisdicción        24 non-null     int64  \n",
      " 3   Descripción de  Subjurisdicción   24 non-null     object \n",
      " 4   Código de  Entidad                24 non-null     int64  \n",
      " 5   Descripción de  Entidad           24 non-null     object \n",
      " 6   Código de Finalidad Función       24 non-null     float64\n",
      " 7   Descripción de Finalidad Función  24 non-null     object \n",
      " 8   Crédito 2019                      24 non-null     int64  \n",
      "dtypes: float64(1), int64(4), object(4)\n",
      "memory usage: 1.9+ KB\n"
     ]
    }
   ],
   "source": [
    "codigo_fin_fun_educ_cultura = generarCodigoFinalidadFuncion(desc_educacion_cultura)\n",
    "pres_educ_cultura = presupuesto_2019[presupuesto_2019[\"Código de Finalidad Función\"]\n",
    "                                 == float(codigo_fin_fun_educ_cultura)]\n",
    "pres_educ_cultura.info()\n"
   ]
  },
  {
   "cell_type": "code",
   "execution_count": 25,
   "metadata": {},
   "outputs": [
    {
     "data": {
      "text/plain": [
       "Descripción de  Jurisdicción\n",
       "Jefatura de Gabinete de Ministros                         1\n",
       "Ministerio de Defensa                                     5\n",
       "Ministerio de Educación, Cultura, Ciencia y Tecnología    7\n",
       "Ministerio de Justicia y Derechos Humanos                 2\n",
       "Ministerio de Seguridad                                   5\n",
       "Ministerio del Interior, Obras Públicas y Vivienda        1\n",
       "Obligaciones a Cargo del Tesoro                           1\n",
       "Poder Legislativo Nacional                                1\n",
       "Presidencia de la Nación                                  1\n",
       "dtype: int64"
      ]
     },
     "execution_count": 25,
     "metadata": {},
     "output_type": "execute_result"
    }
   ],
   "source": [
    "jurisdicciones_p_ec = pres_educ_cultura.groupby(\"Descripción de  Jurisdicción\")\n",
    "jurisdicciones_p_ec.size()"
   ]
  },
  {
   "cell_type": "markdown",
   "metadata": {},
   "source": [
    "**Creditos totales para educación y cultura 2019**"
   ]
  },
  {
   "cell_type": "code",
   "execution_count": 27,
   "metadata": {},
   "outputs": [
    {
     "data": {
      "text/plain": [
       "229303637925"
      ]
     },
     "execution_count": 27,
     "metadata": {},
     "output_type": "execute_result"
    }
   ],
   "source": [
    "pres_educ_cultura[\"Crédito 2019\"].sum()"
   ]
  },
  {
   "cell_type": "markdown",
   "metadata": {},
   "source": [
    "#### Ministerio de Educación, Cultura, Ciencia y Tecnología"
   ]
  },
  {
   "cell_type": "markdown",
   "metadata": {},
   "source": [
    "Sólo viendo la información correspondiente al MECCyT llaman la atención dos cosas de cómo se estructura la información.\n",
    "1. El código de jurisdicción, subjurisdicción y entidad parece ser independiente, y puede tener elementos repetidos.\n",
    "    - El MECCyT se encuentra en los trés campos, con tres códigos distintos. Nótese cómo en subjurisdicción aparece con el código 0 y 1, que parecen estar reservados para aquella subjurisdicción que sea idéntica a su jurisdicción, de igual forma con la entidad.\n",
    "2. La información parece estar ordenada en función de la entidad, no hay entidad que se repita"
   ]
  },
  {
   "cell_type": "code",
   "execution_count": 26,
   "metadata": {},
   "outputs": [
    {
     "ename": "NameError",
     "evalue": "name 'jurisdicciones_p_et' is not defined",
     "output_type": "error",
     "traceback": [
      "\u001b[0;31m---------------------------------------------------------------------------\u001b[0m",
      "\u001b[0;31mNameError\u001b[0m                                 Traceback (most recent call last)",
      "\u001b[0;32m/tmp/ipykernel_2726/1473144934.py\u001b[0m in \u001b[0;36m<module>\u001b[0;34m\u001b[0m\n\u001b[0;32m----> 1\u001b[0;31m MECyT = jurisdicciones_p_et.get_group(\n\u001b[0m\u001b[1;32m      2\u001b[0m     \"Ministerio de Educación, Cultura, Ciencia y Tecnología\")\n\u001b[1;32m      3\u001b[0m \u001b[0;31m# MECyT[[\u001b[0m\u001b[0;34m\u001b[0m\u001b[0;34m\u001b[0m\u001b[0m\n\u001b[1;32m      4\u001b[0m \u001b[0;31m#     \"Descripción de  Subjurisdicción\", \"Descripción de  Entidad\", \"Crédito 2019\"]]\u001b[0m\u001b[0;34m\u001b[0m\u001b[0;34m\u001b[0m\u001b[0m\n\u001b[1;32m      5\u001b[0m \u001b[0mMECyT\u001b[0m\u001b[0;34m\u001b[0m\u001b[0;34m\u001b[0m\u001b[0m\n",
      "\u001b[0;31mNameError\u001b[0m: name 'jurisdicciones_p_et' is not defined"
     ]
    }
   ],
   "source": [
    "MECyT = jurisdicciones_p_et.get_group(\n",
    "    \"Ministerio de Educación, Cultura, Ciencia y Tecnología\")\n",
    "# MECyT[[\n",
    "#     \"Descripción de  Subjurisdicción\", \"Descripción de  Entidad\", \"Crédito 2019\"]]\n",
    "MECyT\n"
   ]
  },
  {
   "cell_type": "markdown",
   "metadata": {},
   "source": [
    "Comprobemos el punto dos, no hay entidad que se repita"
   ]
  },
  {
   "cell_type": "code",
   "execution_count": null,
   "metadata": {},
   "outputs": [
    {
     "data": {
      "text/plain": [
       "3                             Poder Legislativo Nacional\n",
       "20                                    Secretaría General\n",
       "40               Secretaría de Gobierno de Modernización\n",
       "52     Ministerio del Interior, Obras Públicas y Vivi...\n",
       "71             Ministerio de Justicia y Derechos Humanos\n",
       "75                        Servicio Penitenciario Federal\n",
       "80                               Ministerio de Seguridad\n",
       "84                             Policía Federal Argentina\n",
       "88                                  Gendarmería Nacional\n",
       "92                            Prefectura Naval Argentina\n",
       "94                    Policía de Seguridad Aeroportuaria\n",
       "101                                Ministerio de Defensa\n",
       "107                    Estado Mayor General del Ejército\n",
       "111                    Estado Mayor General de la Armada\n",
       "116              Estado Mayor General de la Fuerza Aérea\n",
       "119         Estado Mayor Conjunto de las Fuerzas Armadas\n",
       "172                            Teatro Nacional Cervantes\n",
       "173          Biblioteca Nacional \"Doctor Mariano Moreno\"\n",
       "174                        Instituto Nacional del Teatro\n",
       "175                          Fondo Nacional de las Artes\n",
       "176    Comisión Nacional de Evaluación y Acreditación...\n",
       "178    Ministerio de Educación, Cultura, Ciencia y Te...\n",
       "181                    Secretaría de Gobierno de Cultura\n",
       "219                      Obligaciones a Cargo del Tesoro\n",
       "Name: Descripción de  Entidad, dtype: object"
      ]
     },
     "execution_count": 22,
     "metadata": {},
     "output_type": "execute_result"
    }
   ],
   "source": [
    "desc_entidad = pres_educ_tec[\"Descripción de  Entidad\"]\n",
    "desc_entidad"
   ]
  },
  {
   "cell_type": "code",
   "execution_count": null,
   "metadata": {},
   "outputs": [
    {
     "data": {
      "text/plain": [
       "True"
      ]
     },
     "execution_count": 23,
     "metadata": {},
     "output_type": "execute_result"
    }
   ],
   "source": [
    "desc_entidad.is_unique"
   ]
  },
  {
   "cell_type": "markdown",
   "metadata": {},
   "source": [
    "Veamos el valor total del crédito en la finalidad-funcion de Educación y Cultura"
   ]
  }
 ],
 "metadata": {
  "interpreter": {
   "hash": "7152278db559e2e9b098350b5a7167e31f17e15bf58f426d9d3d7293b63f9cd7"
  },
  "kernelspec": {
   "display_name": "Python 3.9.7 64-bit ('env': venv)",
   "language": "python",
   "name": "python3"
  },
  "language_info": {
   "codemirror_mode": {
    "name": "ipython",
    "version": 3
   },
   "file_extension": ".py",
   "mimetype": "text/x-python",
   "name": "python",
   "nbconvert_exporter": "python",
   "pygments_lexer": "ipython3",
   "version": "3.9.7"
  },
  "orig_nbformat": 4
 },
 "nbformat": 4,
 "nbformat_minor": 2
}
