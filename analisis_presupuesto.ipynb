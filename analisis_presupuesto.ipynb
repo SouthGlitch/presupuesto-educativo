{
 "cells": [
  {
   "cell_type": "code",
   "execution_count": 56,
   "metadata": {},
   "outputs": [],
   "source": [
    "import pandas as pd\n"
   ]
  },
  {
   "cell_type": "code",
   "execution_count": 57,
   "metadata": {},
   "outputs": [
    {
     "data": {
      "text/html": [
       "<div>\n",
       "<style scoped>\n",
       "    .dataframe tbody tr th:only-of-type {\n",
       "        vertical-align: middle;\n",
       "    }\n",
       "\n",
       "    .dataframe tbody tr th {\n",
       "        vertical-align: top;\n",
       "    }\n",
       "\n",
       "    .dataframe thead th {\n",
       "        text-align: right;\n",
       "    }\n",
       "</style>\n",
       "<table border=\"1\" class=\"dataframe\">\n",
       "  <thead>\n",
       "    <tr style=\"text-align: right;\">\n",
       "      <th></th>\n",
       "      <th>nivel_general</th>\n",
       "    </tr>\n",
       "    <tr>\n",
       "      <th>indice_tiempo</th>\n",
       "      <th></th>\n",
       "    </tr>\n",
       "  </thead>\n",
       "  <tbody>\n",
       "    <tr>\n",
       "      <th>2006-12-01</th>\n",
       "      <td>25.798812</td>\n",
       "    </tr>\n",
       "    <tr>\n",
       "      <th>2007-01-01</th>\n",
       "      <td>26.093953</td>\n",
       "    </tr>\n",
       "    <tr>\n",
       "      <th>2007-02-01</th>\n",
       "      <td>26.172078</td>\n",
       "    </tr>\n",
       "    <tr>\n",
       "      <th>2007-03-01</th>\n",
       "      <td>26.371733</td>\n",
       "    </tr>\n",
       "    <tr>\n",
       "      <th>2007-04-01</th>\n",
       "      <td>26.568493</td>\n",
       "    </tr>\n",
       "    <tr>\n",
       "      <th>...</th>\n",
       "      <td>...</td>\n",
       "    </tr>\n",
       "    <tr>\n",
       "      <th>2021-08-01</th>\n",
       "      <td>510.394200</td>\n",
       "    </tr>\n",
       "    <tr>\n",
       "      <th>2021-09-01</th>\n",
       "      <td>528.496800</td>\n",
       "    </tr>\n",
       "    <tr>\n",
       "      <th>2021-10-01</th>\n",
       "      <td>547.080200</td>\n",
       "    </tr>\n",
       "    <tr>\n",
       "      <th>2021-11-01</th>\n",
       "      <td>560.918400</td>\n",
       "    </tr>\n",
       "    <tr>\n",
       "      <th>2021-12-01</th>\n",
       "      <td>582.457500</td>\n",
       "    </tr>\n",
       "  </tbody>\n",
       "</table>\n",
       "<p>181 rows × 1 columns</p>\n",
       "</div>"
      ],
      "text/plain": [
       "               nivel_general\n",
       "indice_tiempo               \n",
       "2006-12-01         25.798812\n",
       "2007-01-01         26.093953\n",
       "2007-02-01         26.172078\n",
       "2007-03-01         26.371733\n",
       "2007-04-01         26.568493\n",
       "...                      ...\n",
       "2021-08-01        510.394200\n",
       "2021-09-01        528.496800\n",
       "2021-10-01        547.080200\n",
       "2021-11-01        560.918400\n",
       "2021-12-01        582.457500\n",
       "\n",
       "[181 rows x 1 columns]"
      ]
     },
     "execution_count": 57,
     "metadata": {},
     "output_type": "execute_result"
    }
   ],
   "source": [
    "ipc = pd.read_csv(\n",
    "    \"./data/IPC_H/ipc_enero2006_dic2021_homologacion_base_indec_dic2016_I.csv\"\n",
    ").set_index(\"indice_tiempo\")\n",
    "ipc"
   ]
  },
  {
   "cell_type": "code",
   "execution_count": 58,
   "metadata": {},
   "outputs": [
    {
     "data": {
      "text/html": [
       "<div>\n",
       "<style scoped>\n",
       "    .dataframe tbody tr th:only-of-type {\n",
       "        vertical-align: middle;\n",
       "    }\n",
       "\n",
       "    .dataframe tbody tr th {\n",
       "        vertical-align: top;\n",
       "    }\n",
       "\n",
       "    .dataframe thead th {\n",
       "        text-align: right;\n",
       "    }\n",
       "</style>\n",
       "<table border=\"1\" class=\"dataframe\">\n",
       "  <thead>\n",
       "    <tr style=\"text-align: right;\">\n",
       "      <th></th>\n",
       "      <th>ejercicio_presupuestario</th>\n",
       "      <th>finalidad_id</th>\n",
       "      <th>finalidad_desc</th>\n",
       "      <th>funcion_id</th>\n",
       "      <th>funcion_desc</th>\n",
       "      <th>credito_presupuestado</th>\n",
       "      <th>credito_vigente</th>\n",
       "      <th>credito_devengado</th>\n",
       "      <th>credito_comprometido</th>\n",
       "      <th>credito_pagado</th>\n",
       "    </tr>\n",
       "  </thead>\n",
       "  <tbody>\n",
       "    <tr>\n",
       "      <th>0</th>\n",
       "      <td>2012</td>\n",
       "      <td>1</td>\n",
       "      <td>ADMINISTRACION GUBERNAMENTAL</td>\n",
       "      <td>1</td>\n",
       "      <td>Legislativa</td>\n",
       "      <td>2294.700917</td>\n",
       "      <td>3061.443763</td>\n",
       "      <td>3020.196348</td>\n",
       "      <td>3023.928596</td>\n",
       "      <td>2784.668903</td>\n",
       "    </tr>\n",
       "    <tr>\n",
       "      <th>1</th>\n",
       "      <td>2012</td>\n",
       "      <td>1</td>\n",
       "      <td>ADMINISTRACION GUBERNAMENTAL</td>\n",
       "      <td>2</td>\n",
       "      <td>Judicial</td>\n",
       "      <td>8405.975133</td>\n",
       "      <td>9498.596600</td>\n",
       "      <td>8836.840848</td>\n",
       "      <td>8839.804511</td>\n",
       "      <td>8338.435782</td>\n",
       "    </tr>\n",
       "    <tr>\n",
       "      <th>2</th>\n",
       "      <td>2012</td>\n",
       "      <td>1</td>\n",
       "      <td>ADMINISTRACION GUBERNAMENTAL</td>\n",
       "      <td>3</td>\n",
       "      <td>Dirección Superior Ejecutiva</td>\n",
       "      <td>3654.896740</td>\n",
       "      <td>4549.688987</td>\n",
       "      <td>3847.855685</td>\n",
       "      <td>3895.504312</td>\n",
       "      <td>3393.665257</td>\n",
       "    </tr>\n",
       "    <tr>\n",
       "      <th>3</th>\n",
       "      <td>2012</td>\n",
       "      <td>1</td>\n",
       "      <td>ADMINISTRACION GUBERNAMENTAL</td>\n",
       "      <td>4</td>\n",
       "      <td>Relaciones Exteriores</td>\n",
       "      <td>2787.331451</td>\n",
       "      <td>3000.368909</td>\n",
       "      <td>2687.494194</td>\n",
       "      <td>2695.650024</td>\n",
       "      <td>2476.021496</td>\n",
       "    </tr>\n",
       "    <tr>\n",
       "      <th>4</th>\n",
       "      <td>2012</td>\n",
       "      <td>1</td>\n",
       "      <td>ADMINISTRACION GUBERNAMENTAL</td>\n",
       "      <td>5</td>\n",
       "      <td>Relaciones Interiores</td>\n",
       "      <td>12102.487071</td>\n",
       "      <td>12170.920577</td>\n",
       "      <td>10938.697252</td>\n",
       "      <td>10941.780040</td>\n",
       "      <td>10415.195345</td>\n",
       "    </tr>\n",
       "    <tr>\n",
       "      <th>...</th>\n",
       "      <td>...</td>\n",
       "      <td>...</td>\n",
       "      <td>...</td>\n",
       "      <td>...</td>\n",
       "      <td>...</td>\n",
       "      <td>...</td>\n",
       "      <td>...</td>\n",
       "      <td>...</td>\n",
       "      <td>...</td>\n",
       "      <td>...</td>\n",
       "    </tr>\n",
       "    <tr>\n",
       "      <th>314</th>\n",
       "      <td>2022</td>\n",
       "      <td>4</td>\n",
       "      <td>SERVICIOS ECONOMICOS</td>\n",
       "      <td>5</td>\n",
       "      <td>Agricultura</td>\n",
       "      <td>39691.738630</td>\n",
       "      <td>39691.738630</td>\n",
       "      <td>13.612187</td>\n",
       "      <td>1286.686184</td>\n",
       "      <td>0.252613</td>\n",
       "    </tr>\n",
       "    <tr>\n",
       "      <th>315</th>\n",
       "      <td>2022</td>\n",
       "      <td>4</td>\n",
       "      <td>SERVICIOS ECONOMICOS</td>\n",
       "      <td>6</td>\n",
       "      <td>Industria</td>\n",
       "      <td>125917.922183</td>\n",
       "      <td>125917.922183</td>\n",
       "      <td>0.675015</td>\n",
       "      <td>98.748318</td>\n",
       "      <td>0.000000</td>\n",
       "    </tr>\n",
       "    <tr>\n",
       "      <th>316</th>\n",
       "      <td>2022</td>\n",
       "      <td>4</td>\n",
       "      <td>SERVICIOS ECONOMICOS</td>\n",
       "      <td>7</td>\n",
       "      <td>Comercio, Turismo y Otros Servicios</td>\n",
       "      <td>45979.866685</td>\n",
       "      <td>45979.866685</td>\n",
       "      <td>63.162445</td>\n",
       "      <td>655.966621</td>\n",
       "      <td>7.687485</td>\n",
       "    </tr>\n",
       "    <tr>\n",
       "      <th>317</th>\n",
       "      <td>2022</td>\n",
       "      <td>4</td>\n",
       "      <td>SERVICIOS ECONOMICOS</td>\n",
       "      <td>8</td>\n",
       "      <td>Seguros y Finanzas</td>\n",
       "      <td>6989.655654</td>\n",
       "      <td>6989.655654</td>\n",
       "      <td>0.651868</td>\n",
       "      <td>23.369758</td>\n",
       "      <td>0.651868</td>\n",
       "    </tr>\n",
       "    <tr>\n",
       "      <th>318</th>\n",
       "      <td>2022</td>\n",
       "      <td>5</td>\n",
       "      <td>DEUDA PUBLICA</td>\n",
       "      <td>1</td>\n",
       "      <td>Servicio de la Deuda Pública</td>\n",
       "      <td>776195.810259</td>\n",
       "      <td>776195.810259</td>\n",
       "      <td>12934.746959</td>\n",
       "      <td>12934.746959</td>\n",
       "      <td>9916.810889</td>\n",
       "    </tr>\n",
       "  </tbody>\n",
       "</table>\n",
       "<p>319 rows × 10 columns</p>\n",
       "</div>"
      ],
      "text/plain": [
       "     ejercicio_presupuestario  finalidad_id                finalidad_desc  \\\n",
       "0                        2012             1  ADMINISTRACION GUBERNAMENTAL   \n",
       "1                        2012             1  ADMINISTRACION GUBERNAMENTAL   \n",
       "2                        2012             1  ADMINISTRACION GUBERNAMENTAL   \n",
       "3                        2012             1  ADMINISTRACION GUBERNAMENTAL   \n",
       "4                        2012             1  ADMINISTRACION GUBERNAMENTAL   \n",
       "..                        ...           ...                           ...   \n",
       "314                      2022             4          SERVICIOS ECONOMICOS   \n",
       "315                      2022             4          SERVICIOS ECONOMICOS   \n",
       "316                      2022             4          SERVICIOS ECONOMICOS   \n",
       "317                      2022             4          SERVICIOS ECONOMICOS   \n",
       "318                      2022             5                 DEUDA PUBLICA   \n",
       "\n",
       "     funcion_id                         funcion_desc  credito_presupuestado  \\\n",
       "0             1                          Legislativa            2294.700917   \n",
       "1             2                             Judicial            8405.975133   \n",
       "2             3         Dirección Superior Ejecutiva            3654.896740   \n",
       "3             4                Relaciones Exteriores            2787.331451   \n",
       "4             5                Relaciones Interiores           12102.487071   \n",
       "..          ...                                  ...                    ...   \n",
       "314           5                          Agricultura           39691.738630   \n",
       "315           6                            Industria          125917.922183   \n",
       "316           7  Comercio, Turismo y Otros Servicios           45979.866685   \n",
       "317           8                   Seguros y Finanzas            6989.655654   \n",
       "318           1         Servicio de la Deuda Pública          776195.810259   \n",
       "\n",
       "     credito_vigente  credito_devengado  credito_comprometido  credito_pagado  \n",
       "0        3061.443763        3020.196348           3023.928596     2784.668903  \n",
       "1        9498.596600        8836.840848           8839.804511     8338.435782  \n",
       "2        4549.688987        3847.855685           3895.504312     3393.665257  \n",
       "3        3000.368909        2687.494194           2695.650024     2476.021496  \n",
       "4       12170.920577       10938.697252          10941.780040    10415.195345  \n",
       "..               ...                ...                   ...             ...  \n",
       "314     39691.738630          13.612187           1286.686184        0.252613  \n",
       "315    125917.922183           0.675015             98.748318        0.000000  \n",
       "316     45979.866685          63.162445            655.966621        7.687485  \n",
       "317      6989.655654           0.651868             23.369758        0.651868  \n",
       "318    776195.810259       12934.746959          12934.746959     9916.810889  \n",
       "\n",
       "[319 rows x 10 columns]"
      ]
     },
     "execution_count": 58,
     "metadata": {},
     "output_type": "execute_result"
    }
   ],
   "source": [
    "presupuesto = pd.read_csv(\"./data/presupuesto/2012-2022-finalidad-funcion.csv\")\n",
    "presupuesto"
   ]
  },
  {
   "cell_type": "code",
   "execution_count": 59,
   "metadata": {},
   "outputs": [
    {
     "data": {
      "text/plain": [
       "ejercicio_presupuestario\n",
       "2012    5.885867e+05\n",
       "2013    7.801498e+05\n",
       "2014    1.164759e+06\n",
       "2015    1.499476e+06\n",
       "2016    2.215683e+06\n",
       "2017    2.633515e+06\n",
       "2018    3.379235e+06\n",
       "2019    4.928184e+06\n",
       "2020    7.762601e+06\n",
       "2021    1.100019e+07\n",
       "2022    1.077595e+07\n",
       "Name: credito_vigente, dtype: float64"
      ]
     },
     "execution_count": 59,
     "metadata": {},
     "output_type": "execute_result"
    }
   ],
   "source": [
    "total_anual = presupuesto.groupby(\"ejercicio_presupuestario\").sum()[\"credito_vigente\"]\n",
    "total_anual"
   ]
  },
  {
   "cell_type": "code",
   "execution_count": 60,
   "metadata": {},
   "outputs": [
    {
     "data": {
      "text/plain": [
       "<AxesSubplot:xlabel='ejercicio_presupuestario'>"
      ]
     },
     "execution_count": 60,
     "metadata": {},
     "output_type": "execute_result"
    },
    {
     "data": {
      "image/png": "[encoded data removed]",
      "text/plain": [
       "<Figure size 1008x576 with 1 Axes>"
      ]
     },
     "metadata": {
      "needs_background": "light"
     },
     "output_type": "display_data"
    }
   ],
   "source": [
    "\n",
    "total_anual.plot.bar(figsize=(14,8))"
   ]
  },
  {
   "cell_type": "code",
   "execution_count": 61,
   "metadata": {},
   "outputs": [
    {
     "name": "stdout",
     "output_type": "stream",
     "text": [
      "2011-12-01\n",
      "2012-12-01\n",
      "2013-12-01\n",
      "2014-12-01\n",
      "2015-12-01\n",
      "2016-12-01\n",
      "2017-12-01\n",
      "2018-12-01\n",
      "2019-12-01\n",
      "2020-12-01\n",
      "2021-12-01\n"
     ]
    }
   ],
   "source": [
    "ipc_index = []\n",
    "tmp_i = total_anual.index\n",
    "for index in tmp_i:\n",
    "    index = str(index-1)+\"-12-01\"\n",
    "    print(index)\n",
    "    ipc_index.append(index)\n"
   ]
  },
  {
   "cell_type": "code",
   "execution_count": 62,
   "metadata": {},
   "outputs": [],
   "source": [
    "ipc_constante = ipc.loc[\"2021-12-01\"].at[\"nivel_general\"]\n",
    "ipc_origen = ipc.loc[ipc_index][\"nivel_general\"]"
   ]
  },
  {
   "cell_type": "code",
   "execution_count": 68,
   "metadata": {},
   "outputs": [
    {
     "data": {
      "text/plain": [
       "<AxesSubplot:xlabel='ejercicio_presupuestario'>"
      ]
     },
     "execution_count": 68,
     "metadata": {},
     "output_type": "execute_result"
    },
    {
     "data": {
      "image/png": "[encoded data removed]",
      "text/plain": [
       "<Figure size 1008x360 with 1 Axes>"
      ]
     },
     "metadata": {
      "needs_background": "light"
     },
     "output_type": "display_data"
    }
   ],
   "source": [
    "total_anual_constante = total_anual * (ipc_constante / ipc_origen.values)\n",
    "total_anual_constante.plot.bar(figsize=(14, 5))\n"
   ]
  },
  {
   "cell_type": "code",
   "execution_count": 72,
   "metadata": {},
   "outputs": [
    {
     "data": {
      "text/plain": [
       "ejercicio_presupuestario\n",
       "2012          NaN\n",
       "2013    16.374506\n",
       "2014    25.689214\n",
       "2015     3.783869\n",
       "2016    19.762308\n",
       "2017   -18.670926\n",
       "2018     2.743946\n",
       "2019    -1.239951\n",
       "2020     2.337570\n",
       "2021     3.928512\n",
       "2022   -54.082682\n",
       "Name: credito_vigente, dtype: float64"
      ]
     },
     "execution_count": 72,
     "metadata": {},
     "output_type": "execute_result"
    }
   ],
   "source": [
    "total_anual_constante_variacion = (total_anual_constante.diff()/total_anual_constante)*100\n",
    "total_anual_constante_variacion"
   ]
  },
  {
   "cell_type": "code",
   "execution_count": null,
   "metadata": {},
   "outputs": [],
   "source": [
    "\n",
    "total_anual_constante_variacion.plot.bar(figsize=(14,5))"
   ]
  }
 ],
 "metadata": {
  "interpreter": {
   "hash": "7152278db559e2e9b098350b5a7167e31f17e15bf58f426d9d3d7293b63f9cd7"
  },
  "kernelspec": {
   "display_name": "Python 3.10.1 64-bit ('env': venv)",
   "language": "python",
   "name": "python3"
  },
  "language_info": {
   "codemirror_mode": {
    "name": "ipython",
    "version": 3
   },
   "file_extension": ".py",
   "mimetype": "text/x-python",
   "name": "python",
   "nbconvert_exporter": "python",
   "pygments_lexer": "ipython3",
   "version": "3.10.1"
  },
  "orig_nbformat": 4
 },
 "nbformat": 4,
 "nbformat_minor": 2
}
